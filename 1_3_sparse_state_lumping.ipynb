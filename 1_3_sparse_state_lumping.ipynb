{
 "cells": [
  {
   "cell_type": "markdown",
   "metadata": {
    "slideshow": {
     "slide_type": "slide"
    }
   },
   "source": [
    "## Sparse state networks \n",
    "Second-order dynamics on a physical network can be described by first-order dynamics on a second-order state network.\n",
    "\n",
    "We can represent this second-order network by it's _state transition matrix_ $P_{ij}$ with the probabilities for the random walker to transition from state node $i$ to state node $j$."
   ]
  },
  {
   "cell_type": "markdown",
   "metadata": {
    "slideshow": {
     "slide_type": "subslide"
    }
   },
   "source": [
    "In this view, some rows may have similar probability distributions. We can measure how much information we lose when merging two state nodes with the [Jensen-Shannon Distance](https://en.wikipedia.org/wiki/Jensen%E2%80%93Shannon_divergence).\n",
    "\n",
    "The idea behind sparse state networks is that we can lump state nodes (within each physical node) that constrain the network flow in a similar way without losing (much) information."
   ]
  },
  {
   "cell_type": "markdown",
   "metadata": {
    "slideshow": {
     "slide_type": "slide"
    }
   },
   "source": [
    "### Transform to a general machine learning problem\n",
    "We will here solve the problem using standard [clustering algorithms](http://scikit-learn.org/stable/modules/clustering.html#clustering) from the [scikit-learn](http://scikit-learn.org/) package.\n",
    "\n",
    "In order to do that, we have to transform the state network into features usable for machine learning. We can do this with the help of the code in [state_lumping_network.py](./state_lumping_network.py)."
   ]
  },
  {
   "cell_type": "code",
   "execution_count": null,
   "metadata": {
    "slideshow": {
     "slide_type": "subslide"
    }
   },
   "outputs": [],
   "source": [
    "from state_lumping_network import StateNetwork"
   ]
  },
  {
   "cell_type": "code",
   "execution_count": null,
   "metadata": {
    "slideshow": {
     "slide_type": "subslide"
    }
   },
   "outputs": [],
   "source": [
    "net = StateNetwork()\n",
    "net.readFromFile(\"data/toy_states.net\")"
   ]
  },
  {
   "cell_type": "markdown",
   "metadata": {
    "slideshow": {
     "slide_type": "subslide"
    }
   },
   "source": [
    "![toy_states](figures/toy_states_full.png)\n",
    "\n",
    "Figure 1: Second-order state network in `data/toy_states.net`"
   ]
  },
  {
   "cell_type": "markdown",
   "metadata": {
    "slideshow": {
     "slide_type": "slide"
    }
   },
   "source": [
    "## Feature matrix\n",
    "\n",
    "The feature matrix for a physical node is simply the rows of the state transition matrix for the state nodes belonging to that physical node.\n",
    "To simplify, there is a `getFeatureMatrix` method that removes all all-zero rows and columns in the feature matrix and provides a mapping back to the original state network. It takes the physical node id as input parameter and returns a tuple `(X, T)`, where `X` is the feature matrix (np.array) of size (numNonDanglingStateNodes, numLinkedNodes) and `T` is a dictionary transforming row index in the feature matrix to state node id."
   ]
  },
  {
   "cell_type": "code",
   "execution_count": null,
   "metadata": {
    "slideshow": {
     "slide_type": "subslide"
    }
   },
   "outputs": [],
   "source": [
    "X, rowToStateId = net.getFeatureMatrix(1)\n",
    "print(\"Feature matrix for the central physical node: \\n{}\\n rowToStateId: {}\".format(X, rowToStateId))"
   ]
  },
  {
   "cell_type": "markdown",
   "metadata": {
    "slideshow": {
     "slide_type": "subslide"
    }
   },
   "source": [
    "### Measure pairwise similarity\n",
    "Now we can compare rows pairwise and cluster the most similar rows together. The Jensen-Shannon distance is unfortunately not implemented in scikit-learn (though it exist in a [pull request](https://github.com/scikit-learn/scikit-learn/pull/4191)), so let's create it."
   ]
  },
  {
   "cell_type": "code",
   "execution_count": null,
   "metadata": {
    "slideshow": {
     "slide_type": "subslide"
    }
   },
   "outputs": [],
   "source": [
    "import numpy as np\n",
    "from sklearn.metrics import pairwise_distances\n",
    "\n",
    "def plogp(x):\n",
    "    x = np.asarray(x)\n",
    "    return x * np.log2(x, where = x>0)\n",
    "\n",
    "def entropy(x):\n",
    "    return -np.sum(plogp(x))\n",
    "\n",
    "def jensen_shannon_distance(x1, x2):\n",
    "    x1 = np.asarray(x1)\n",
    "    x2 = np.asarray(x2)\n",
    "    mix = (x1 + x2) / 2\n",
    "    return np.sqrt(entropy(mix) - (entropy(x1) + entropy(x2)) / 2)\n",
    "\n",
    "def jensen_shannon_distances(X):\n",
    "    return pairwise_distances(X, metric=jensen_shannon_distance)\n",
    "\n",
    "print(jensen_shannon_distance(X[0], X[1]))\n",
    "print(jensen_shannon_distance(X[1], X[2]))"
   ]
  },
  {
   "cell_type": "markdown",
   "metadata": {
    "slideshow": {
     "slide_type": "subslide"
    }
   },
   "source": [
    "### Cluster with scikit-learn\n",
    "\n",
    "Now we can use general [scikit-learn clustering algorithm](http://scikit-learn.org/stable/modules/clustering.html) that takes a custom pairwise distance function as a metric, like [Agglomerative Clustering](http://scikit-learn.org/stable/modules/generated/sklearn.cluster.AgglomerativeClustering.html#sklearn.cluster.AgglomerativeClustering). We can also use for example `cosine` instead with similar results. Many cluster algorithms take as input the number of clusters you want. For the example feature matrix, it's two."
   ]
  },
  {
   "cell_type": "code",
   "execution_count": null,
   "metadata": {
    "slideshow": {
     "slide_type": "subslide"
    }
   },
   "outputs": [],
   "source": [
    "from sklearn import cluster"
   ]
  },
  {
   "cell_type": "code",
   "execution_count": null,
   "metadata": {
    "slideshow": {
     "slide_type": "subslide"
    }
   },
   "outputs": [],
   "source": [
    "model = cluster.AgglomerativeClustering(\n",
    "    linkage=\"complete\",\n",
    "    affinity=jensen_shannon_distances,\n",
    "#     affinity=\"cosine\",\n",
    "    n_clusters=2\n",
    ")\n",
    "\n",
    "labels = model.fit_predict(X)\n",
    "print(\"Cluster labels in feature matrix space: {}\\nCluster labels in state node space: {}\".format(\n",
    "    labels,\n",
    "    {rowToStateId[i]:clusterId for i,clusterId in enumerate(labels)}\n",
    "))"
   ]
  },
  {
   "cell_type": "markdown",
   "metadata": {
    "slideshow": {
     "slide_type": "slide"
    }
   },
   "source": [
    "### Lump entire network\n",
    "Now we are ready to run this clustering code on the entire network. For convenience, `StateNetwork` provides a method `clusterStateNodes` that takes an argument `clusterFeatureMatrix` where you can send in a custom clustering function. This function gets a feature matrix as input argument and expects an array of cluster labels back."
   ]
  },
  {
   "cell_type": "code",
   "execution_count": null,
   "metadata": {
    "slideshow": {
     "slide_type": "subslide"
    }
   },
   "outputs": [],
   "source": [
    "def getFeatureClusterFunction(clusterRate=0.5):\n",
    "    def calcClusters(X):\n",
    "        numStates, numFeatures = X.shape\n",
    "        if numStates < 2 or numFeatures < 2:\n",
    "            # Don't cluster if too small\n",
    "            return list(range(numStates))\n",
    "\n",
    "        # Can be an adaptive number of clusters based on entropy reduction\n",
    "        n_clusters = max(1, int(clusterRate * numStates))\n",
    "        model = cluster.AgglomerativeClustering(\n",
    "            linkage=\"complete\",\n",
    "            affinity=jensen_shannon_distances,\n",
    "#             affinity=\"cosine\",\n",
    "            n_clusters=n_clusters\n",
    "        )\n",
    "\n",
    "        labels = model.fit_predict(X)\n",
    "        return labels\n",
    "    return calcClusters\n",
    "\n",
    "net.clusterStateNodes(clusterFeatureMatrix=getFeatureClusterFunction())"
   ]
  },
  {
   "cell_type": "markdown",
   "metadata": {
    "slideshow": {
     "slide_type": "slide"
    }
   },
   "source": [
    "## Did we lose any information?\n",
    "The state network has two methods `calcEntropyRate()` and `calcLumpedEntropyRate()` to calculate the average number of bits required to encode the random walk on each physical node."
   ]
  },
  {
   "cell_type": "code",
   "execution_count": null,
   "metadata": {
    "slideshow": {
     "slide_type": "subslide"
    }
   },
   "outputs": [],
   "source": [
    "h1 = net.calcEntropyRate()\n",
    "h2 = net.calcLumpedEntropyRate()\n",
    "print(\"Entropy rate before: {}, after: {}\".format(h1, h2))"
   ]
  },
  {
   "cell_type": "code",
   "execution_count": null,
   "metadata": {
    "slideshow": {
     "slide_type": "subslide"
    }
   },
   "outputs": [],
   "source": [
    "from pathlib import Path\n",
    "net.writeLumpedStateNetwork(\"output/toy_lumped.net\")\n",
    "print(Path('output/toy_lumped.net').read_text())"
   ]
  },
  {
   "cell_type": "markdown",
   "metadata": {
    "slideshow": {
     "slide_type": "subslide"
    }
   },
   "source": [
    "### Now we have generated the sparse network (with lossless compression)\n",
    "![toy_states](figures/toy_states_full.png)\n",
    "![toy_states](figures/toy_states_sparse.png)\n",
    "\n",
    "To the left, the original second-order network. To the right, the sparse network formed by lumping similar state nodes within each physical node."
   ]
  },
  {
   "cell_type": "code",
   "execution_count": null,
   "metadata": {
    "slideshow": {
     "slide_type": "skip"
    }
   },
   "outputs": [],
   "source": []
  }
 ],
 "metadata": {
  "celltoolbar": "Slideshow",
  "kernelspec": {
   "display_name": "Python 3",
   "language": "python",
   "name": "python3"
  },
  "language_info": {
   "codemirror_mode": {
    "name": "ipython",
    "version": 3
   },
   "file_extension": ".py",
   "mimetype": "text/x-python",
   "name": "python",
   "nbconvert_exporter": "python",
   "pygments_lexer": "ipython3",
   "version": "3.6.5"
  }
 },
 "nbformat": 4,
 "nbformat_minor": 2
}
