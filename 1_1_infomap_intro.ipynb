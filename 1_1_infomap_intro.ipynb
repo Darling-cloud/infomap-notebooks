{
 "cells": [
  {
   "cell_type": "markdown",
   "metadata": {
    "slideshow": {
     "slide_type": "slide"
    }
   },
   "source": [
    "### The Map Equation\n",
    "\n",
    "\\begin{equation*}\n",
    "    L(M) = q_\\curvearrowright H(\\mathcal{Q}) + \\sum_{i = 1}^{m}{p_{\\circlearrowright}^i H(\\mathcal{P}^i)}\n",
    "\\end{equation*}\n",
    "\n",
    "$L(M)$ measures the amount of information it takes to describe a random walk on a network given a partition of the network into modules $M$. It is a sum of the amount of information needed to describe the movements _between_ and _within_ the modules, which balances the goodness of fit with the complexity of the model. For more information, see [www.mapequation.org](http://www.mapequation.org)."
   ]
  },
  {
   "cell_type": "markdown",
   "metadata": {
    "slideshow": {
     "slide_type": "subslide"
    }
   },
   "source": [
    "# Infomap\n",
    "Infomap is a stochastic network clustering algorithm developed to minimize the [Map equation](http://www.mapequation.org/publications.html#Rosvall-Axelsson-Bergstrom-2009-Map-equation)."
   ]
  },
  {
   "cell_type": "markdown",
   "metadata": {
    "slideshow": {
     "slide_type": "subslide"
    }
   },
   "source": [
    "### Features\n",
    "\n",
    "Infomap supports\n",
    "* Unweighted and weighted links\n",
    "* Undirected and directed links\n",
    "* Two-level and multi-level solutions\n",
    "* First-order and second-order dynamics\n",
    "* Sparse Markov model dynamics\n",
    "* Hard partitions and overlapping partitions\n",
    "* Single- and multi-layer networks"
   ]
  },
  {
   "cell_type": "markdown",
   "metadata": {
    "slideshow": {
     "slide_type": "slide"
    }
   },
   "source": [
    "## Getting started\n",
    "See https://mapequation.github.io/infomap/ for a simple example and python API to get started with Infomap in python"
   ]
  },
  {
   "cell_type": "markdown",
   "metadata": {
    "slideshow": {
     "slide_type": "subslide"
    }
   },
   "source": [
    "### Install Infomap\n",
    "\n",
    "The v1.0 beta release is available on the PyPI, install it with\n",
    "```\n",
    "pip install infomap\n",
    "```\n",
    "or upgrade with\n",
    "```\n",
    "pip install --upgrade infomap\n",
    "```"
   ]
  },
  {
   "cell_type": "code",
   "execution_count": 1,
   "metadata": {
    "slideshow": {
     "slide_type": "subslide"
    }
   },
   "outputs": [
    {
     "name": "stdout",
     "output_type": "stream",
     "text": [
      "1.0.0-beta.15\n"
     ]
    }
   ],
   "source": [
    "import infomap\n",
    "print(infomap.Infomap().version)"
   ]
  },
  {
   "cell_type": "markdown",
   "metadata": {
    "slideshow": {
     "slide_type": "slide"
    }
   },
   "source": [
    "## Basic command line use\n",
    "The installation of the python package also installs a binary for command line use, exemplified below.\n",
    "See http://www.mapequation.org/code.html#Options for available input flags to `Infomap`"
   ]
  },
  {
   "cell_type": "markdown",
   "metadata": {
    "slideshow": {
     "slide_type": "subslide"
    }
   },
   "source": [
    "Command line programs can be called directly from jupyter by adding `!` in front, like `!ls`. Run Infomap on the `ninetriangles.net` network in the `data` folder and direct output to the `output` folder. Run it with `5` trials to see the effect of the stochastic nature of Infomap."
   ]
  },
  {
   "cell_type": "code",
   "execution_count": 2,
   "metadata": {
    "slideshow": {
     "slide_type": "subslide"
    }
   },
   "outputs": [
    {
     "name": "stdout",
     "output_type": "stream",
     "text": [
      "=======================================================\r\n",
      "  Infomap v1.0.0-beta.15 starts at [2018-09-05 23:45:17]\r\n",
      "  -> Input network: data/ninetriangles.net\r\n",
      "  -> Output path:   output/\r\n",
      "  -> Configuration: num-trials = 5\r\n",
      "=======================================================\r\n",
      "Parsing undirected network from file 'data/ninetriangles.net'... \r\n",
      "   Parsing vertices...\r\n",
      "   -> 27 physical nodes added\r\n",
      "   Parsing links...\r\n",
      "   -> 39 links\r\n",
      "Done!\r\n",
      "-------------------------------------\r\n",
      "  -> 27 state nodes\r\n",
      "  -> 27 physical nodes\r\n",
      "  -> 39 links with total weight 39\r\n",
      "  -> Ordinary network input, using the Map Equation for first order network flows\r\n",
      "Calculating global network flow using flow model 'undirected'... \r\n",
      "  -> Using undirected links.\r\n",
      "  => Sum node flow: 1, sumLinkFlow: 1\r\n",
      "Build internal network...\r\n",
      "Generate network with 27 nodes and 39 links...\r\n",
      "Calculating one-level codelength... done!\r\n",
      " -> One-level codelength: 4.74543683\r\n",
      "\r\n",
      "================================================\r\n",
      "Trial 1/5 starting at[2018-09-05 23:45:17]\r\n",
      "================================================\r\n",
      "Two-level compression: 25% 5e-14% \r\n",
      "Partitioned to codelength 0.641526923 + 2.92289551 = 3.564422432 in 7 modules.\r\n",
      "Super-level compression: to codelength 3.564422432 in 7 top modules.\r\n",
      "\r\n",
      "Recursive sub-structure compression: 1.9% 0% . Found 3 levels with codelength 3.498424664\r\n",
      "\r\n",
      "=> Trial 1/5 finished in 0.73s with codelength 3.5\r\n",
      "Write tree to output/ninetriangles.tree... done!\r\n",
      "\r\n",
      "================================================\r\n",
      "Trial 2/5 starting at[2018-09-05 23:45:17]\r\n",
      "================================================\r\n",
      "Two-level compression: 24% 6.1e-14% \r\n",
      "Partitioned to codelength 0.83 + 2.8 = 3.612751718 in 8 modules.\r\n",
      "Super-level compression: 0.32% to codelength 3.601364351 in 2 top modules.\r\n",
      "\r\n",
      "Recursive sub-structure compression: 12% 3.6% 0% . Found 4 levels with codelength 3.535471932\r\n",
      "\r\n",
      "=> Trial 2/5 finished in 1.4s with codelength 3.5\r\n",
      "\r\n",
      "================================================\r\n",
      "Trial 3/5 starting at[2018-09-05 23:45:17]\r\n",
      "================================================\r\n",
      "Two-level compression: 21% 5.3% \r\n",
      "Partitioned to codelength 0.64 + 2.9 = 3.564422432 in 7 modules.\r\n",
      "Super-level compression: to codelength 3.564422432 in 7 top modules.\r\n",
      "\r\n",
      "Recursive sub-structure compression: 1.9% -1.3e-14% . Found 3 levels with codelength 3.498424664\r\n",
      "\r\n",
      "=> Trial 3/5 finished in 0.67s with codelength 3.5\r\n",
      "\r\n",
      "================================================\r\n",
      "Trial 4/5 starting at[2018-09-05 23:45:17]\r\n",
      "================================================\r\n",
      "Two-level compression: 21% 5.3% \r\n",
      "Partitioned to codelength 0.64 + 2.9 = 3.564422432 in 7 modules.\r\n",
      "Super-level compression: to codelength 3.564422432 in 7 top modules.\r\n",
      "\r\n",
      "Recursive sub-structure compression: 1.9% 0% . Found 3 levels with codelength 3.498424664\r\n",
      "\r\n",
      "=> Trial 4/5 finished in 0.68s with codelength 3.5\r\n",
      "\r\n",
      "================================================\r\n",
      "Trial 5/5 starting at[2018-09-05 23:45:17]\r\n",
      "================================================\r\n",
      "Two-level compression: 25% 0% \r\n",
      "Partitioned to codelength 0.97 + 2.6 = 3.572285806 in 9 modules.\r\n",
      "Super-level compression: 2.5% to codelength 3.48418988 in 3 top modules.\r\n",
      "\r\n",
      "Recursive sub-structure compression: 5.4% 0% . Found 3 levels with codelength 3.48418988\r\n",
      "\r\n",
      "=> Trial 5/5 finished in 1s with codelength 3.5\r\n",
      "Write tree to output/ninetriangles.tree... done!\r\n",
      "\r\n",
      "\r\n",
      "================================================\r\n",
      "Summary after 5 trials\r\n",
      "================================================\r\n",
      "Codelengths: [3.498424664, 3.535471932, 3.498424664, 3.498424664, 3.484189880, \b\b]\r\n",
      "[min, average, max] codelength: [3.484189880, 3.502987161, 3.535471932]\r\n",
      "\r\n",
      "Best end modular solution in 3 levels:\r\n",
      "Per level number of modules:         [          3,           9,           0] (sum: 12)\r\n",
      "Per level number of leaf nodes:      [          0,           0,          27] (sum: 27)\r\n",
      "Per level average child degree:      [          3,           3,           3] (average: 3.000000000)\r\n",
      "Per level codelength for modules:    [0.121920192, 0.758057921, 0.000000000] (sum: 0.879978113)\r\n",
      "Per level codelength for leaf nodes: [0.000000000, 0.000000000, 2.604211767] (sum: 2.604211767)\r\n",
      "Per level codelength total:          [0.121920192, 0.758057921, 2.604211767] (sum: 3.484189880)\r\n",
      "\r\n",
      "===================================================\r\n",
      "  Infomap ends at [2018-09-05 23:45:17]\r\n",
      "  (Elapsed time: 0.005854000s)\r\n",
      "===================================================\r\n"
     ]
    }
   ],
   "source": [
    "!infomap data/ninetriangles.net output/ -N5"
   ]
  },
  {
   "cell_type": "markdown",
   "metadata": {
    "slideshow": {
     "slide_type": "subslide"
    }
   },
   "source": [
    "### Input network\n",
    "The input network above was formed as nine triangles clustered in three levels, which was also recovered with the Infomap clustering algorithm after some trials.\n",
    "\n",
    "![triangle-network](http://www.mapequation.org/assets/img/triangle-network-levels_3.svg)"
   ]
  },
  {
   "cell_type": "code",
   "execution_count": 3,
   "metadata": {
    "slideshow": {
     "slide_type": "subslide"
    }
   },
   "outputs": [
    {
     "name": "stdout",
     "output_type": "stream",
     "text": [
      "*Vertices 27\n",
      " 1 \"1\"\n",
      " 2 \"2\"\n",
      " 3 \"3\"\n",
      " 4 \"4\"\n",
      " 5 \"5\"\n",
      " 6 \"6\"\n",
      " 7 \"7\"\n",
      " 8 \"8\"\n",
      " 9 \"9\"\n",
      " 10 \"10\"\n",
      " 11 \"11\"\n",
      " 12 \"12\"\n",
      " 13 \"13\"\n",
      " 14 \"14\"\n",
      " 15 \"15\"\n",
      " 16 \"16\"\n",
      " 17 \"17\"\n",
      " 18 \"18\"\n",
      " 19 \"19\"\n",
      " 20 \"20\"\n",
      " 21 \"21\"\n",
      " 22 \"22\"\n",
      " 23 \"23\"\n",
      " 24 \"24\"\n",
      " 25 \"25\"\n",
      " 26 \"26\"\n",
      " 27 \"27\"\n",
      "*Edges 39\n",
      "1 2 1\n",
      "1 3 1\n",
      "1 4 1\n",
      "2 3 1\n",
      "3 7 1\n",
      "4 5 1 \n",
      "4 6 1 \n",
      "5 6 1 \n",
      "6 8 1 \n",
      "7 8 1 \n",
      "7 9 1 \n",
      "8 9 1 \n",
      "10 11 1\n",
      "10 12 1\n",
      "10 13 1\n",
      "11 12 1\n",
      "12 16 1\n",
      "13 14 1 \n",
      "13 15 1 \n",
      "14 15 1 \n",
      "15 17 1 \n",
      "16 17 1 \n",
      "16 18 1 \n",
      "17 18 1\n",
      "19 20 1\n",
      "19 21 1\n",
      "19 22 1\n",
      "20 21 1\n",
      "21 25 1\n",
      "22 23 1 \n",
      "22 24 1 \n",
      "23 24 1 \n",
      "24 26 1 \n",
      "25 26 1 \n",
      "25 27 1 \n",
      "26 27 1\n",
      "9 20 1\n",
      "5 11 1\n",
      "18 23 1\n"
     ]
    }
   ],
   "source": [
    "from pathlib import Path\n",
    "print(Path('data/ninetriangles.net').read_text())"
   ]
  },
  {
   "cell_type": "markdown",
   "metadata": {
    "slideshow": {
     "slide_type": "slide"
    }
   },
   "source": [
    "### Output format\n",
    "By default on the command line, Infomap writes an output file with the same name as the input but with the `.tree` extension. This file contains the multi-level modular structure of the input network."
   ]
  },
  {
   "cell_type": "code",
   "execution_count": 4,
   "metadata": {
    "slideshow": {
     "slide_type": "subslide"
    }
   },
   "outputs": [
    {
     "name": "stdout",
     "output_type": "stream",
     "text": [
      "# Codelength = 3.48419 bits.\n",
      "# path flow name physicalId\n",
      "1:1:1 0.0384615 \"1\" 1\n",
      "1:1:2 0.025641 \"2\" 2\n",
      "1:1:3 0.0384615 \"3\" 3\n",
      "1:2:1 0.0384615 \"4\" 4\n",
      "1:2:2 0.0384615 \"5\" 5\n",
      "1:2:3 0.0384615 \"6\" 6\n",
      "1:3:1 0.0384615 \"7\" 7\n",
      "1:3:2 0.0384615 \"8\" 8\n",
      "1:3:3 0.0384615 \"9\" 9\n",
      "2:1:1 0.0384615 \"10\" 10\n",
      "2:1:2 0.0384615 \"11\" 11\n",
      "2:1:3 0.0384615 \"12\" 12\n",
      "2:2:1 0.0384615 \"13\" 13\n",
      "2:2:2 0.025641 \"14\" 14\n",
      "2:2:3 0.0384615 \"15\" 15\n",
      "2:3:1 0.0384615 \"16\" 16\n",
      "2:3:2 0.0384615 \"17\" 17\n",
      "2:3:3 0.0384615 \"18\" 18\n",
      "3:1:1 0.0384615 \"19\" 19\n",
      "3:1:2 0.0384615 \"20\" 20\n",
      "3:1:3 0.0384615 \"21\" 21\n",
      "3:2:1 0.0384615 \"22\" 22\n",
      "3:2:2 0.0384615 \"23\" 23\n",
      "3:2:3 0.0384615 \"24\" 24\n",
      "3:3:1 0.0384615 \"25\" 25\n",
      "3:3:2 0.0384615 \"26\" 26\n",
      "3:3:3 0.025641 \"27\" 27\n",
      "\n"
     ]
    }
   ],
   "source": [
    "print(Path('output/ninetriangles.tree').read_text())"
   ]
  },
  {
   "cell_type": "markdown",
   "metadata": {
    "slideshow": {
     "slide_type": "slide"
    }
   },
   "source": [
    "## From Python\n",
    "The python API gives more flexibility, but we can still work with files in a similar way as the cli use above."
   ]
  },
  {
   "cell_type": "code",
   "execution_count": 5,
   "metadata": {
    "slideshow": {
     "slide_type": "subslide"
    }
   },
   "outputs": [
    {
     "name": "stdout",
     "output_type": "stream",
     "text": [
      "Clustered in 3 levels with codelength 3.4841898804052187\n",
      "Writing result to file...\n",
      "Done!\n",
      "\n",
      ".ftree file:\n",
      "# Codelength = 3.48419 bits.\n",
      "# path flow name physicalId\n",
      "1:1:1 0.0384615 \"1\" 1\n",
      "1:1:2 0.025641 \"2\" 2\n",
      "1:1:3 0.0384615 \"3\" 3\n",
      "1:2:1 0.0384615 \"4\" 4\n",
      "1:2:2 0.0384615 \"5\" 5\n",
      "1:2:3 0.0384615 \"6\" 6\n",
      "1:3:1 0.0384615 \"7\" 7\n",
      "1:3:2 0.0384615 \"8\" 8\n",
      "1:3:3 0.0384615 \"9\" 9\n",
      "2:1:1 0.0384615 \"10\" 10\n",
      "2:1:2 0.0384615 \"11\" 11\n",
      "2:1:3 0.0384615 \"12\" 12\n",
      "2:2:1 0.0384615 \"13\" 13\n",
      "2:2:2 0.025641 \"14\" 14\n",
      "2:2:3 0.0384615 \"15\" 15\n",
      "2:3:1 0.0384615 \"16\" 16\n",
      "2:3:2 0.0384615 \"17\" 17\n",
      "2:3:3 0.0384615 \"18\" 18\n",
      "3:1:1 0.0384615 \"19\" 19\n",
      "3:1:2 0.0384615 \"20\" 20\n",
      "3:1:3 0.0384615 \"21\" 21\n",
      "3:2:1 0.0384615 \"22\" 22\n",
      "3:2:2 0.0384615 \"23\" 23\n",
      "3:2:3 0.0384615 \"24\" 24\n",
      "3:3:1 0.0384615 \"25\" 25\n",
      "3:3:2 0.0384615 \"26\" 26\n",
      "3:3:3 0.025641 \"27\" 27\n",
      "*Links undirected\n",
      "#*Links path exitFlow numEdges numChildren\n",
      "*Links root 0 3 3\n",
      "1 2 0.025641\n",
      "1 3 0.025641\n",
      "2 3 0.025641\n",
      "*Links 1 0.0512821 3 3\n",
      "1 2 0.025641\n",
      "1 3 0.025641\n",
      "2 3 0.025641\n",
      "*Links 1:1 0.0512821 3 3\n",
      "1 2 0.025641\n",
      "1 3 0.025641\n",
      "2 3 0.025641\n",
      "*Links 1:2 0.0512821 3 3\n",
      "1 2 0.025641\n",
      "1 3 0.025641\n",
      "2 3 0.025641\n",
      "*Links 1:3 0.025641 3 3\n",
      "1 2 0.025641\n",
      "1 3 0.025641\n",
      "2 3 0.025641\n",
      "*Links 2 0.025641 3 3\n",
      "1 2 0.025641\n",
      "1 3 0.025641\n",
      "2 3 0.025641\n",
      "*Links 2:1 0.0512821 3 3\n",
      "1 2 0.025641\n",
      "1 3 0.025641\n",
      "2 3 0.025641\n",
      "*Links 2:2 0.025641 3 3\n",
      "1 2 0.025641\n",
      "1 3 0.025641\n",
      "2 3 0.025641\n",
      "*Links 2:3 0.025641 3 3\n",
      "1 2 0.025641\n",
      "1 3 0.025641\n",
      "2 3 0.025641\n",
      "*Links 3 0 3 3\n",
      "1 2 0.025641\n",
      "1 3 0.025641\n",
      "2 3 0.025641\n",
      "*Links 3:1 0.0512821 3 3\n",
      "1 2 0.025641\n",
      "1 3 0.025641\n",
      "2 3 0.025641\n",
      "*Links 3:2 0.025641 3 3\n",
      "1 2 0.025641\n",
      "1 3 0.025641\n",
      "2 3 0.025641\n",
      "*Links 3:3 0 3 3\n",
      "1 2 0.025641\n",
      "1 3 0.025641\n",
      "2 3 0.025641\n",
      "\n"
     ]
    }
   ],
   "source": [
    "infomapFileIO = infomap.Infomap(\"-N5\")\n",
    "\n",
    "# Read from file\n",
    "infomapFileIO.network().readInputData(\"data/ninetriangles.net\")\n",
    "\n",
    "infomapFileIO.run()\n",
    "\n",
    "print(\"Clustered in {} levels with codelength {}\".format(infomapFileIO.maxTreeDepth(), infomapFileIO.codelength()))\n",
    "\n",
    "print(\"Writing result to file...\")\n",
    "infomapFileIO.writeClu(\"output/ninetriangles.clu\")\n",
    "infomapFileIO.writeFlowTree(\"output/ninetriangles.ftree\")\n",
    "print(\"Done!\")\n",
    "\n",
    "print(\"\\n.ftree file:\")\n",
    "print(Path('output/ninetriangles.ftree').read_text())"
   ]
  },
  {
   "cell_type": "markdown",
   "metadata": {
    "slideshow": {
     "slide_type": "slide"
    }
   },
   "source": [
    "## Basic programmatic use"
   ]
  },
  {
   "cell_type": "code",
   "execution_count": 7,
   "metadata": {
    "slideshow": {
     "slide_type": "subslide"
    }
   },
   "outputs": [
    {
     "data": {
      "text/plain": [
       "True"
      ]
     },
     "execution_count": 7,
     "metadata": {},
     "output_type": "execute_result"
    }
   ],
   "source": [
    "infomap1 = infomap.Infomap(\"--directed\")\n",
    "\n",
    "# Use the default network, which got configured as directed by Infomap\n",
    "network = infomap1.network()\n",
    "\n",
    "# Add link weight as an optional third argument\n",
    "network.addLink(0, 1)\n",
    "network.addLink(0, 2)\n",
    "network.addLink(0, 3)\n",
    "network.addLink(1, 0)\n",
    "network.addLink(1, 2)\n",
    "network.addLink(2, 1)\n",
    "network.addLink(2, 0)\n",
    "network.addLink(3, 0)\n",
    "network.addLink(3, 4)\n",
    "network.addLink(3, 5)\n",
    "network.addLink(4, 3)\n",
    "network.addLink(4, 5)\n",
    "network.addLink(5, 4)\n",
    "network.addLink(5, 3)"
   ]
  },
  {
   "cell_type": "code",
   "execution_count": 8,
   "metadata": {
    "slideshow": {
     "slide_type": "subslide"
    }
   },
   "outputs": [
    {
     "name": "stdout",
     "output_type": "stream",
     "text": [
      "Found 2 top modules with codelength 2.320730356833789\n",
      "\n",
      "Result tree:\n",
      "#path flow [nodeId]\n",
      "() 0.9999999999999996\n",
      "(0,) 0.4999999999999998\n",
      "(0, 0) 0.2142857142857142 0\n",
      "(0, 1) 0.1428571428571428 1\n",
      "(0, 2) 0.1428571428571428 2\n",
      "(1,) 0.4999999999999998\n",
      "(1, 0) 0.2142857142857142 3\n",
      "(1, 1) 0.1428571428571428 4\n",
      "(1, 2) 0.1428571428571428 5\n"
     ]
    }
   ],
   "source": [
    "infomap1.run()\n",
    "\n",
    "print(\"Found {} top modules with codelength {}\".format(infomap1.numTopModules(), infomap1.codelength()))\n",
    "\n",
    "print(\"\\nResult tree:\\n#path flow [nodeId]\")\n",
    "for node in infomap1.iterTree():\n",
    "    if node.isLeaf():\n",
    "        print(\"{} {} {}\".format(node.path(), node.data.flow, node.stateId))\n",
    "    else:\n",
    "        print(\"{} {}\".format(node.path(), node.data.flow))"
   ]
  },
  {
   "cell_type": "markdown",
   "metadata": {
    "slideshow": {
     "slide_type": "slide"
    }
   },
   "source": [
    "## Infomap + NetworkX\n",
    "Generate and draw a network with NetworkX, colored\n",
    "according to the community structure found by Infomap."
   ]
  },
  {
   "cell_type": "code",
   "execution_count": 9,
   "metadata": {
    "slideshow": {
     "slide_type": "subslide"
    }
   },
   "outputs": [],
   "source": [
    "import networkx as nx\n",
    "import matplotlib.pyplot as plt\n",
    "import matplotlib.colors as colors"
   ]
  },
  {
   "cell_type": "code",
   "execution_count": 11,
   "metadata": {
    "slideshow": {
     "slide_type": "subslide"
    }
   },
   "outputs": [],
   "source": [
    "def findCommunities(G):\n",
    "    \"\"\"\n",
    "    Partition network with the Infomap algorithm.\n",
    "    Annotates nodes with 'community' id and return number of communities found.\n",
    "    \"\"\"\n",
    "    infomapX = infomap.Infomap(\"--two-level\")\n",
    "\n",
    "    print(\"Building Infomap network from a NetworkX graph...\")\n",
    "    for e in G.edges():\n",
    "        infomapX.network().addLink(*e)\n",
    "\n",
    "    print(\"Find communities with Infomap...\")\n",
    "    infomapX.run();\n",
    "\n",
    "    print(\"Found {} modules with codelength: {}\".format(infomapX.numTopModules(), infomapX.codelength()))\n",
    "\n",
    "    communities = {}\n",
    "    for node in infomapX.iterLeafNodes():\n",
    "        communities[node.physicalId] = node.moduleIndex()\n",
    "\n",
    "    nx.set_node_attributes(G, values=communities, name='community')"
   ]
  },
  {
   "cell_type": "code",
   "execution_count": 13,
   "metadata": {
    "slideshow": {
     "slide_type": "subslide"
    }
   },
   "outputs": [],
   "source": [
    "def drawNetwork(G):\n",
    "    # position map\n",
    "    pos = nx.spring_layout(G)\n",
    "    # community ids\n",
    "    communities = [v for k,v in nx.get_node_attributes(G, 'community').items()]\n",
    "    numCommunities = max(communities) + 1\n",
    "    # color map from http://colorbrewer2.org/\n",
    "    cmapLight = colors.ListedColormap(['#a6cee3', '#b2df8a', '#fb9a99', '#fdbf6f', '#cab2d6'], 'indexed', numCommunities)\n",
    "    cmapDark = colors.ListedColormap(['#1f78b4', '#33a02c', '#e31a1c', '#ff7f00', '#6a3d9a'], 'indexed', numCommunities)\n",
    "\n",
    "    # Draw edges\n",
    "    nx.draw_networkx_edges(G, pos)\n",
    "\n",
    "    # Draw nodes\n",
    "    nodeCollection = nx.draw_networkx_nodes(G,\n",
    "        pos = pos,\n",
    "        node_color = communities,\n",
    "        cmap = cmapLight\n",
    "    )\n",
    "    # Set node border color to the darker shade\n",
    "    darkColors = [cmapDark(v) for v in communities]\n",
    "    nodeCollection.set_edgecolor(darkColors)\n",
    "\n",
    "    # Draw node labels\n",
    "    for n in G.nodes():\n",
    "        plt.annotate(n,\n",
    "            xy = pos[n],\n",
    "            textcoords = 'offset points',\n",
    "            horizontalalignment = 'center',\n",
    "            verticalalignment = 'center',\n",
    "            xytext = [0, 0],\n",
    "            color = cmapDark(communities[n])\n",
    "        )\n",
    "\n",
    "    plt.axis('off')\n",
    "    # plt.savefig(\"karate.png\")\n",
    "    plt.show()"
   ]
  },
  {
   "cell_type": "code",
   "execution_count": 14,
   "metadata": {
    "slideshow": {
     "slide_type": "subslide"
    }
   },
   "outputs": [
    {
     "name": "stdout",
     "output_type": "stream",
     "text": [
      "Building Infomap network from a NetworkX graph...\n",
      "Find communities with Infomap...\n",
      "Found 3 modules with codelength: 4.311792645801829\n"
     ]
    },
    {
     "data": {
      "image/png": "[encoded data removed]",
      "text/plain": [
       "<Figure size 432x288 with 1 Axes>"
      ]
     },
     "metadata": {},
     "output_type": "display_data"
    }
   ],
   "source": [
    "G=nx.karate_club_graph()\n",
    "\n",
    "findCommunities(G)\n",
    "\n",
    "drawNetwork(G)"
   ]
  },
  {
   "cell_type": "markdown",
   "metadata": {
    "slideshow": {
     "slide_type": "slide"
    }
   },
   "source": [
    "## Higher-order networks"
   ]
  },
  {
   "cell_type": "markdown",
   "metadata": {
    "slideshow": {
     "slide_type": "subslide"
    }
   },
   "source": [
    "### General state networks\n",
    "The [state format](http://www.mapequation.org/code.html#State-format) describes the exact network that Infomap uses internally. It can model both ordinary networks and memory networks (of variable order).\n",
    "\n",
    "#### Example\n",
    "```\n",
    "*Vertices 4\n",
    "1 \"PRE\"\n",
    "2 \"SCIENCE\"\n",
    "3 \"PRL\"\n",
    "4 \"BIO\"\n",
    "# *ngrams\n",
    "# 1 2 3\n",
    "# 1 2 2 3\n",
    "# 4 2 4\n",
    "*States\n",
    "#stateId physicalId [name]\n",
    "1 2 \"1 2\"\n",
    "2 3 \"2 3\"\n",
    "3 2 \"1 2 2\"\n",
    "4 2 \"4 2\"\n",
    "5 4 \"2 4\"\n",
    "*Links\n",
    "1 2\n",
    "3 2\n",
    "4 5\n",
    "```\n",
    "Here some ngrams are represented by ordinary links between a set of state nodes."
   ]
  },
  {
   "cell_type": "markdown",
   "metadata": {
    "slideshow": {
     "slide_type": "slide"
    }
   },
   "source": [
    "#### Programmatically creating a state network"
   ]
  },
  {
   "cell_type": "code",
   "execution_count": 15,
   "metadata": {
    "slideshow": {
     "slide_type": "subslide"
    }
   },
   "outputs": [],
   "source": [
    "infomapStates = infomap.Infomap(\"\")\n",
    "\n",
    "network = infomapStates.network()\n",
    "\n",
    "network.addPhysicalNode(1, \"PRE\")\n",
    "network.addPhysicalNode(2, \"SCIENCE\")\n",
    "network.addPhysicalNode(3, \"PRL\")\n",
    "network.addPhysicalNode(4, \"BIO\")\n",
    "\n",
    "network.addStateNode(1, 2)\n",
    "network.addStateNode(2, 3)\n",
    "network.addStateNode(3, 2)\n",
    "network.addStateNode(4, 2)\n",
    "network.addStateNode(5, 4)\n",
    "\n",
    "network.addLink(1, 2)\n",
    "network.addLink(3, 2)\n",
    "network.addLink(4, 5)\n",
    "\n",
    "infomapStates.run()"
   ]
  },
  {
   "cell_type": "code",
   "execution_count": 16,
   "metadata": {
    "slideshow": {
     "slide_type": "subslide"
    }
   },
   "outputs": [
    {
     "name": "stdout",
     "output_type": "stream",
     "text": [
      "Found 2 top modules with codelength: 1.3333333333333364\n",
      "\n",
      "#stateId physicalId moduleIndex flow\n",
      "1 2 0 0.16666666666666666\n",
      "2 3 0 0.3333333333333333\n",
      "3 2 0 0.16666666666666666\n",
      "4 2 1 0.16666666666666666\n",
      "5 4 1 0.16666666666666666\n",
      "\n",
      "Iterate over physical nodes to get the overlapping physical module structure:\n",
      "#physicalId moduleIndex flow\n",
      "2 0 0.3333333333333333\n",
      "3 0 0.3333333333333333\n",
      "2 1 0.16666666666666666\n",
      "4 1 0.16666666666666666\n",
      "\n",
      "Note that state nodes 1 and 3 within module 0 is part of the same physical node 2 and merged above\n"
     ]
    }
   ],
   "source": [
    "print(\"Found {} top modules with codelength: {}\".format(infomapStates.numTopModules(), infomapStates.codelength()))\n",
    "\n",
    "print(\"\\n#stateId physicalId moduleIndex flow\")\n",
    "for node in infomapStates.iterTree():\n",
    "    if node.isLeaf():\n",
    "        print(\"{} {} {} {}\".format(node.stateId, node.physicalId, node.moduleIndex(), node.data.flow))\n",
    "\n",
    "print(\"\\nIterate over physical nodes to get the overlapping physical module structure:\")\n",
    "print(\"#physicalId moduleIndex flow\")\n",
    "for node in infomapStates.iterTreePhysical():\n",
    "    if node.isLeaf():\n",
    "        print(\"{} {} {}\".format(node.physicalId, node.moduleIndex(), node.data.flow))\n",
    "\n",
    "print(\"\\nNote that state nodes 1 and 3 within module 0 is part of the same physical node 2 and merged above\")"
   ]
  },
  {
   "cell_type": "markdown",
   "metadata": {
    "slideshow": {
     "slide_type": "slide"
    }
   },
   "source": [
    "### paths\n",
    "\n",
    "Infomap can generate higher-order state networks from path data at any given Markov order. Markov order 1 corresponds to an ordinary network where the memory is discarded."
   ]
  },
  {
   "cell_type": "code",
   "execution_count": 17,
   "metadata": {
    "slideshow": {
     "slide_type": "subslide"
    }
   },
   "outputs": [
    {
     "data": {
      "text/plain": [
       "True"
      ]
     },
     "execution_count": 17,
     "metadata": {},
     "output_type": "execute_result"
    }
   ],
   "source": [
    "infomapPaths = infomap.Infomap(\"\")\n",
    "\n",
    "network = infomapPaths.network()\n",
    "\n",
    "markovOrder = 2\n",
    "network.addPath([1, 2, 3], markovOrder, 1.0)\n",
    "network.addPath([1, 2, 3, 4, 5], markovOrder, 1.0)\n",
    "network.addPath([1, 2, 3, 4, 5, 6, 7, 8, 9, 10], markovOrder, 2.0)\n",
    "network.addPath([4, 3, 2, 1], markovOrder, 3.0)\n",
    "network.addPath([1, 2, 3], markovOrder, 1.0)\n",
    "network.addPath([3, 2, 1], markovOrder, 1.0)"
   ]
  },
  {
   "cell_type": "code",
   "execution_count": 18,
   "metadata": {
    "slideshow": {
     "slide_type": "subslide"
    }
   },
   "outputs": [
    {
     "name": "stdout",
     "output_type": "stream",
     "text": [
      "Generated state network with 12 nodes and 10 links\n",
      "Run Infomap on network...\n",
      "Found 4 top modules with codelength: 2.36460845871456\n",
      "\n",
      "#physicalId moduleIndex flow\n",
      "2 0 0.08928571428571429\n",
      "3 0 0.14285714285714285\n",
      "4 0 0.10714285714285714\n",
      "5 0 0.08928571428571427\n",
      "6 1 0.07142857142857142\n",
      "7 1 0.07142857142857142\n",
      "8 2 0.07142857142857142\n",
      "9 2 0.07142857142857142\n",
      "10 2 0.03571428571428571\n",
      "1 3 0.07142857142857142\n",
      "2 3 0.125\n",
      "3 3 0.05357142857142857\n",
      "\n",
      "Here physical nodes 2 and 3 have overlapping modules\n"
     ]
    }
   ],
   "source": [
    "# Write state network that can be loaded more efficiently later instead of the paths data\n",
    "network.writeStateNetwork(\"output/paths_states.net\")\n",
    "\n",
    "print(\"Generated state network with {} nodes and {} links\".format(network.numNodes(), network.numLinks()))\n",
    "\n",
    "print(\"Run Infomap on network...\")\n",
    "infomapPaths.run()\n",
    "\n",
    "print(\"Found {} top modules with codelength: {}\".format(infomapPaths.numTopModules(), infomapPaths.codelength()))\n",
    "\n",
    "print(\"\\n#physicalId moduleIndex flow\")\n",
    "for node in infomapPaths.iterTreePhysical():\n",
    "    if node.isLeaf():\n",
    "        print(\"{} {} {}\".format(node.physicalId, node.moduleIndex(), node.data.flow))\n",
    "\n",
    "print(\"\\nHere physical nodes 2 and 3 have overlapping modules\")"
   ]
  },
  {
   "cell_type": "markdown",
   "metadata": {
    "slideshow": {
     "slide_type": "slide"
    }
   },
   "source": [
    "#### Running on the generated state network will give the same result"
   ]
  },
  {
   "cell_type": "code",
   "execution_count": 19,
   "metadata": {
    "slideshow": {
     "slide_type": "subslide"
    }
   },
   "outputs": [
    {
     "name": "stdout",
     "output_type": "stream",
     "text": [
      "Found 4 top modules with codelength: 2.36460845871456\n",
      "\n",
      "#physicalId moduleIndex flow\n",
      "2 0 0.08928571428571429\n",
      "3 0 0.14285714285714285\n",
      "4 0 0.10714285714285714\n",
      "5 0 0.08928571428571427\n",
      "6 1 0.07142857142857142\n",
      "7 1 0.07142857142857142\n",
      "8 2 0.07142857142857142\n",
      "9 2 0.07142857142857142\n",
      "10 2 0.03571428571428571\n",
      "1 3 0.07142857142857142\n",
      "2 3 0.125\n",
      "3 3 0.05357142857142857\n"
     ]
    }
   ],
   "source": [
    "infomapStates2 = infomap.Infomap(\"\")\n",
    "\n",
    "infomapStates2.network().readInputData(\"output/paths_states.net\")\n",
    "infomapStates2.run()\n",
    "\n",
    "print(\"Found {} top modules with codelength: {}\".format(infomapPaths.numTopModules(), infomapPaths.codelength()))\n",
    "\n",
    "print(\"\\n#physicalId moduleIndex flow\")\n",
    "for node in infomapStates2.iterTreePhysical():\n",
    "    if node.isLeaf():\n",
    "        print(\"{} {} {}\".format(node.physicalId, node.moduleIndex(), node.data.flow))"
   ]
  },
  {
   "cell_type": "code",
   "execution_count": null,
   "metadata": {
    "slideshow": {
     "slide_type": "skip"
    }
   },
   "outputs": [],
   "source": []
  }
 ],
 "metadata": {
  "celltoolbar": "Slideshow",
  "kernelspec": {
   "display_name": "Python 3",
   "language": "python",
   "name": "python3"
  },
  "language_info": {
   "codemirror_mode": {
    "name": "ipython",
    "version": 3
   },
   "file_extension": ".py",
   "mimetype": "text/x-python",
   "name": "python",
   "nbconvert_exporter": "python",
   "pygments_lexer": "ipython3",
   "version": "3.6.5"
  },
  "rise": {
   "autolaunch": true
  }
 },
 "nbformat": 4,
 "nbformat_minor": 2
}
