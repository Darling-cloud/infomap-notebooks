{
 "cells": [
  {
   "cell_type": "markdown",
   "metadata": {
    "slideshow": {
     "slide_type": "slide"
    }
   },
   "source": [
    "### The Map Equation\n",
    "\n",
    "\\begin{equation*}\n",
    "    L(M) = q_\\curvearrowright H(\\mathcal{Q}) + \\sum_{i = 1}^{m}{p_{\\circlearrowright}^i H(\\mathcal{P}^i)}\n",
    "\\end{equation*}\n",
    "\n",
    "$L(M)$ measures the amount of information it takes to describe a random walk on a network given a partition of the network into modules $M$. It is a sum of the amount of information needed to describe the movements _between_ and _within_ the modules, which balances the goodness of fit with the complexity of the model. For more information, see [www.mapequation.org](http://www.mapequation.org)."
   ]
  },
  {
   "cell_type": "markdown",
   "metadata": {
    "slideshow": {
     "slide_type": "subslide"
    }
   },
   "source": [
    "# Infomap\n",
    "Infomap is a stochastic network clustering algorithm developed to minimize the [Map equation](http://www.mapequation.org/publications.html#Rosvall-Axelsson-Bergstrom-2009-Map-equation)."
   ]
  },
  {
   "cell_type": "markdown",
   "metadata": {
    "slideshow": {
     "slide_type": "subslide"
    }
   },
   "source": [
    "### Features\n",
    "\n",
    "Infomap supports\n",
    "* Unweighted and weighted links\n",
    "* Undirected and directed links\n",
    "* Two-level and multi-level solutions\n",
    "* First-order and second-order dynamics\n",
    "* Sparse Markov model dynamics\n",
    "* Hard partitions and overlapping partitions\n",
    "* Single- and multi-layer networks"
   ]
  },
  {
   "cell_type": "markdown",
   "metadata": {
    "slideshow": {
     "slide_type": "slide"
    }
   },
   "source": [
    "## Getting started\n",
    "See https://mapequation.github.io/infomap/ for a simple example and python API to get started with Infomap in python"
   ]
  },
  {
   "cell_type": "markdown",
   "metadata": {
    "slideshow": {
     "slide_type": "subslide"
    }
   },
   "source": [
    "### Install Infomap\n",
    "\n",
    "The v1.0 beta release is available on the PyPI, install it with\n",
    "```\n",
    "pip install infomap\n",
    "```\n",
    "or upgrade with\n",
    "```\n",
    "pip install --upgrade infomap\n",
    "```"
   ]
  },
  {
   "cell_type": "code",
   "execution_count": null,
   "metadata": {
    "slideshow": {
     "slide_type": "subslide"
    }
   },
   "outputs": [],
   "source": [
    "import infomap\n",
    "print(infomap.Infomap().version)"
   ]
  },
  {
   "cell_type": "markdown",
   "metadata": {
    "slideshow": {
     "slide_type": "slide"
    }
   },
   "source": [
    "## Basic command line use\n",
    "The installation of the python package also installs a binary for command line use, exemplified below.\n",
    "See http://www.mapequation.org/code.html#Options for available input flags to `Infomap`"
   ]
  },
  {
   "cell_type": "markdown",
   "metadata": {
    "slideshow": {
     "slide_type": "subslide"
    }
   },
   "source": [
    "Command line programs can be called directly from jupyter by adding `!` in front, like `!ls`. Run Infomap on the `ninetriangles.net` network in the `data` folder and direct output to the `output` folder. Run it with `5` trials to see the effect of the stochastic nature of Infomap."
   ]
  },
  {
   "cell_type": "code",
   "execution_count": null,
   "metadata": {
    "slideshow": {
     "slide_type": "subslide"
    }
   },
   "outputs": [],
   "source": [
    "!infomap data/ninetriangles.net output/ -N5"
   ]
  },
  {
   "cell_type": "markdown",
   "metadata": {
    "slideshow": {
     "slide_type": "subslide"
    }
   },
   "source": [
    "### Input network\n",
    "The input network above was formed as nine triangles clustered in three levels, which was also recovered with the Infomap clustering algorithm after some trials.\n",
    "\n",
    "![triangle-network](http://www.mapequation.org/assets/img/triangle-network-levels_3.svg)"
   ]
  },
  {
   "cell_type": "code",
   "execution_count": null,
   "metadata": {
    "slideshow": {
     "slide_type": "subslide"
    }
   },
   "outputs": [],
   "source": [
    "from pathlib import Path\n",
    "print(Path('data/ninetriangles.net').read_text())"
   ]
  },
  {
   "cell_type": "markdown",
   "metadata": {
    "slideshow": {
     "slide_type": "slide"
    }
   },
   "source": [
    "### Output format\n",
    "By default on the command line, Infomap writes an output file with the same name as the input but with the `.tree` extension. This file contains the multi-level modular structure of the input network."
   ]
  },
  {
   "cell_type": "code",
   "execution_count": null,
   "metadata": {
    "slideshow": {
     "slide_type": "subslide"
    }
   },
   "outputs": [],
   "source": [
    "print(Path('output/ninetriangles.tree').read_text())"
   ]
  },
  {
   "cell_type": "markdown",
   "metadata": {
    "slideshow": {
     "slide_type": "slide"
    }
   },
   "source": [
    "## From Python\n",
    "The python API gives more flexibility, but we can still work with files in a similar way as the cli use above."
   ]
  },
  {
   "cell_type": "code",
   "execution_count": null,
   "metadata": {
    "slideshow": {
     "slide_type": "subslide"
    }
   },
   "outputs": [],
   "source": [
    "infomapFileIO = infomap.Infomap(\"-N5\")\n",
    "\n",
    "# Read from file\n",
    "infomapFileIO.network().readInputData(\"data/ninetriangles.net\")\n",
    "\n",
    "infomapFileIO.run()\n",
    "\n",
    "print(\"Clustered in {} levels with codelength {}\".format(infomapFileIO.maxTreeDepth(), infomapFileIO.codelength()))\n",
    "\n",
    "print(\"Writing result to file...\")\n",
    "infomapFileIO.writeClu(\"output/ninetriangles.clu\")\n",
    "infomapFileIO.writeFlowTree(\"output/ninetriangles.ftree\")\n",
    "print(\"Done!\")\n",
    "\n",
    "print(\"\\n.ftree file:\")\n",
    "print(Path('output/ninetriangles.ftree').read_text())"
   ]
  },
  {
   "cell_type": "markdown",
   "metadata": {
    "slideshow": {
     "slide_type": "slide"
    }
   },
   "source": [
    "## Basic programmatic use"
   ]
  },
  {
   "cell_type": "code",
   "execution_count": null,
   "metadata": {
    "slideshow": {
     "slide_type": "subslide"
    }
   },
   "outputs": [],
   "source": [
    "infomap1 = infomap.Infomap(\"--directed\")\n",
    "\n",
    "# Use the default network, which got configured as directed by Infomap\n",
    "network = infomap1.network()\n",
    "\n",
    "# Add link weight as an optional third argument\n",
    "network.addLink(0, 1)\n",
    "network.addLink(0, 2)\n",
    "network.addLink(0, 3)\n",
    "network.addLink(1, 0)\n",
    "network.addLink(1, 2)\n",
    "network.addLink(2, 1)\n",
    "network.addLink(2, 0)\n",
    "network.addLink(3, 0)\n",
    "network.addLink(3, 4)\n",
    "network.addLink(3, 5)\n",
    "network.addLink(4, 3)\n",
    "network.addLink(4, 5)\n",
    "network.addLink(5, 4)\n",
    "network.addLink(5, 3)"
   ]
  },
  {
   "cell_type": "code",
   "execution_count": null,
   "metadata": {
    "slideshow": {
     "slide_type": "subslide"
    }
   },
   "outputs": [],
   "source": [
    "infomap1.run()\n",
    "\n",
    "print(\"Found {} top modules with codelength {}\".format(infomap1.numTopModules(), infomap1.codelength()))\n",
    "\n",
    "print(\"\\nResult tree:\\n#path flow [nodeId]\")\n",
    "for node in infomap1.iterTree():\n",
    "    if node.isLeaf():\n",
    "        print(\"{} {} {}\".format(node.path(), node.data.flow, node.stateId))\n",
    "    else:\n",
    "        print(\"{} {}\".format(node.path(), node.data.flow))"
   ]
  },
  {
   "cell_type": "markdown",
   "metadata": {
    "slideshow": {
     "slide_type": "slide"
    }
   },
   "source": [
    "## Infomap + NetworkX\n",
    "Generate and draw a network with NetworkX, colored\n",
    "according to the community structure found by Infomap."
   ]
  },
  {
   "cell_type": "code",
   "execution_count": null,
   "metadata": {
    "slideshow": {
     "slide_type": "subslide"
    }
   },
   "outputs": [],
   "source": [
    "import networkx as nx\n",
    "import matplotlib.pyplot as plt\n",
    "import matplotlib.colors as colors"
   ]
  },
  {
   "cell_type": "code",
   "execution_count": null,
   "metadata": {
    "slideshow": {
     "slide_type": "subslide"
    }
   },
   "outputs": [],
   "source": [
    "def findCommunities(G):\n",
    "    \"\"\"\n",
    "    Partition network with the Infomap algorithm.\n",
    "    Annotates nodes with 'community' id and return number of communities found.\n",
    "    \"\"\"\n",
    "    infomapX = infomap.Infomap(\"--two-level\")\n",
    "\n",
    "    print(\"Building Infomap network from a NetworkX graph...\")\n",
    "    for e in G.edges():\n",
    "        infomapX.network().addLink(*e)\n",
    "\n",
    "    print(\"Find communities with Infomap...\")\n",
    "    infomapX.run();\n",
    "\n",
    "    print(\"Found {} modules with codelength: {}\".format(infomapX.numTopModules(), infomapX.codelength()))\n",
    "\n",
    "    communities = {}\n",
    "    for node in infomapX.iterLeafNodes():\n",
    "        communities[node.physicalId] = node.moduleIndex()\n",
    "\n",
    "    nx.set_node_attributes(G, values=communities, name='community')"
   ]
  },
  {
   "cell_type": "code",
   "execution_count": null,
   "metadata": {
    "slideshow": {
     "slide_type": "subslide"
    }
   },
   "outputs": [],
   "source": [
    "def drawNetwork(G):\n",
    "    # position map\n",
    "    pos = nx.spring_layout(G)\n",
    "    # community ids\n",
    "    communities = [v for k,v in nx.get_node_attributes(G, 'community').items()]\n",
    "    numCommunities = max(communities) + 1\n",
    "    # color map from http://colorbrewer2.org/\n",
    "    cmapLight = colors.ListedColormap(['#a6cee3', '#b2df8a', '#fb9a99', '#fdbf6f', '#cab2d6'], 'indexed', numCommunities)\n",
    "    cmapDark = colors.ListedColormap(['#1f78b4', '#33a02c', '#e31a1c', '#ff7f00', '#6a3d9a'], 'indexed', numCommunities)\n",
    "\n",
    "    # Draw edges\n",
    "    nx.draw_networkx_edges(G, pos)\n",
    "\n",
    "    # Draw nodes\n",
    "    nodeCollection = nx.draw_networkx_nodes(G,\n",
    "        pos = pos,\n",
    "        node_color = communities,\n",
    "        cmap = cmapLight\n",
    "    )\n",
    "    # Set node border color to the darker shade\n",
    "    darkColors = [cmapDark(v) for v in communities]\n",
    "    nodeCollection.set_edgecolor(darkColors)\n",
    "\n",
    "    # Draw node labels\n",
    "    for n in G.nodes():\n",
    "        plt.annotate(n,\n",
    "            xy = pos[n],\n",
    "            textcoords = 'offset points',\n",
    "            horizontalalignment = 'center',\n",
    "            verticalalignment = 'center',\n",
    "            xytext = [0, 0],\n",
    "            color = cmapDark(communities[n])\n",
    "        )\n",
    "\n",
    "    plt.axis('off')\n",
    "    # plt.savefig(\"karate.png\")\n",
    "    plt.show()"
   ]
  },
  {
   "cell_type": "code",
   "execution_count": null,
   "metadata": {
    "slideshow": {
     "slide_type": "subslide"
    }
   },
   "outputs": [],
   "source": [
    "G=nx.karate_club_graph()\n",
    "\n",
    "findCommunities(G)\n",
    "\n",
    "drawNetwork(G)"
   ]
  },
  {
   "cell_type": "markdown",
   "metadata": {
    "slideshow": {
     "slide_type": "slide"
    }
   },
   "source": [
    "## Higher-order networks"
   ]
  },
  {
   "cell_type": "markdown",
   "metadata": {
    "slideshow": {
     "slide_type": "subslide"
    }
   },
   "source": [
    "### General state networks\n",
    "The [state format](http://www.mapequation.org/code.html#State-format) describes the exact network that Infomap uses internally. It can model both ordinary networks and memory networks (of variable order).\n",
    "\n",
    "#### Example\n",
    "```\n",
    "*Vertices 4\n",
    "1 \"PRE\"\n",
    "2 \"SCIENCE\"\n",
    "3 \"PRL\"\n",
    "4 \"BIO\"\n",
    "# *ngrams\n",
    "# 1 2 3\n",
    "# 1 2 2 3\n",
    "# 4 2 4\n",
    "*States\n",
    "#stateId physicalId [name]\n",
    "1 2 \"1 2\"\n",
    "2 3 \"2 3\"\n",
    "3 2 \"1 2 2\"\n",
    "4 2 \"4 2\"\n",
    "5 4 \"2 4\"\n",
    "*Links\n",
    "1 2\n",
    "3 2\n",
    "4 5\n",
    "```\n",
    "Here some ngrams are represented by ordinary links between a set of state nodes."
   ]
  },
  {
   "cell_type": "markdown",
   "metadata": {
    "slideshow": {
     "slide_type": "slide"
    }
   },
   "source": [
    "#### Programmatically creating a state network"
   ]
  },
  {
   "cell_type": "code",
   "execution_count": null,
   "metadata": {
    "slideshow": {
     "slide_type": "subslide"
    }
   },
   "outputs": [],
   "source": [
    "infomapStates = infomap.Infomap(\"\")\n",
    "\n",
    "network = infomapStates.network()\n",
    "\n",
    "network.addPhysicalNode(1, \"PRE\")\n",
    "network.addPhysicalNode(2, \"SCIENCE\")\n",
    "network.addPhysicalNode(3, \"PRL\")\n",
    "network.addPhysicalNode(4, \"BIO\")\n",
    "\n",
    "network.addStateNode(1, 2)\n",
    "network.addStateNode(2, 3)\n",
    "network.addStateNode(3, 2)\n",
    "network.addStateNode(4, 2)\n",
    "network.addStateNode(5, 4)\n",
    "\n",
    "network.addLink(1, 2)\n",
    "network.addLink(3, 2)\n",
    "network.addLink(4, 5)\n",
    "\n",
    "infomapStates.run()"
   ]
  },
  {
   "cell_type": "code",
   "execution_count": null,
   "metadata": {
    "slideshow": {
     "slide_type": "subslide"
    }
   },
   "outputs": [],
   "source": [
    "print(\"Found {} top modules with codelength: {}\".format(infomapStates.numTopModules(), infomapStates.codelength()))\n",
    "\n",
    "print(\"\\n#stateId physicalId moduleIndex flow\")\n",
    "for node in infomapStates.iterTree():\n",
    "    if node.isLeaf():\n",
    "        print(\"{} {} {} {}\".format(node.stateId, node.physicalId, node.moduleIndex(), node.data.flow))\n",
    "\n",
    "print(\"\\nIterate over physical nodes to get the overlapping physical module structure:\")\n",
    "print(\"#physicalId moduleIndex flow\")\n",
    "for node in infomapStates.iterTreePhysical():\n",
    "    if node.isLeaf():\n",
    "        print(\"{} {} {}\".format(node.physicalId, node.moduleIndex(), node.data.flow))\n",
    "\n",
    "print(\"\\nNote that state nodes 1 and 3 within module 0 is part of the same physical node 2 and merged above\")"
   ]
  },
  {
   "cell_type": "markdown",
   "metadata": {
    "slideshow": {
     "slide_type": "slide"
    }
   },
   "source": [
    "### paths\n",
    "\n",
    "Infomap can generate higher-order state networks from path data at any given Markov order. Markov order 1 corresponds to an ordinary network where the memory is discarded."
   ]
  },
  {
   "cell_type": "code",
   "execution_count": null,
   "metadata": {
    "slideshow": {
     "slide_type": "subslide"
    }
   },
   "outputs": [],
   "source": [
    "infomapPaths = infomap.Infomap(\"\")\n",
    "\n",
    "network = infomapPaths.network()\n",
    "\n",
    "markovOrder = 2\n",
    "network.addPath([1, 2, 3], markovOrder, 1.0)\n",
    "network.addPath([1, 2, 3, 4, 5], markovOrder, 1.0)\n",
    "network.addPath([1, 2, 3, 4, 5, 6, 7, 8, 9, 10], markovOrder, 2.0)\n",
    "network.addPath([4, 3, 2, 1], markovOrder, 3.0)\n",
    "network.addPath([1, 2, 3], markovOrder, 1.0)\n",
    "network.addPath([3, 2, 1], markovOrder, 1.0)"
   ]
  },
  {
   "cell_type": "code",
   "execution_count": null,
   "metadata": {
    "slideshow": {
     "slide_type": "subslide"
    }
   },
   "outputs": [],
   "source": [
    "# Write state network that can be loaded more efficiently later instead of the paths data\n",
    "network.writeStateNetwork(\"output/paths_states.net\")\n",
    "\n",
    "print(\"Generated state network with {} nodes and {} links\".format(network.numNodes(), network.numLinks()))\n",
    "\n",
    "print(\"Run Infomap on network...\")\n",
    "infomapPaths.run()\n",
    "\n",
    "print(\"Found {} top modules with codelength: {}\".format(infomapPaths.numTopModules(), infomapPaths.codelength()))\n",
    "\n",
    "print(\"\\n#physicalId moduleIndex flow\")\n",
    "for node in infomapPaths.iterTreePhysical():\n",
    "    if node.isLeaf():\n",
    "        print(\"{} {} {}\".format(node.physicalId, node.moduleIndex(), node.data.flow))\n",
    "\n",
    "print(\"\\nHere physical nodes 2 and 3 have overlapping modules\")"
   ]
  },
  {
   "cell_type": "markdown",
   "metadata": {
    "slideshow": {
     "slide_type": "slide"
    }
   },
   "source": [
    "#### Running on the generated state network will give the same result"
   ]
  },
  {
   "cell_type": "code",
   "execution_count": null,
   "metadata": {
    "slideshow": {
     "slide_type": "subslide"
    }
   },
   "outputs": [],
   "source": [
    "infomapStates2 = infomap.Infomap(\"\")\n",
    "\n",
    "infomapStates2.network().readInputData(\"output/paths_states.net\")\n",
    "infomapStates2.run()\n",
    "\n",
    "print(\"Found {} top modules with codelength: {}\".format(infomapPaths.numTopModules(), infomapPaths.codelength()))\n",
    "\n",
    "print(\"\\n#physicalId moduleIndex flow\")\n",
    "for node in infomapStates2.iterTreePhysical():\n",
    "    if node.isLeaf():\n",
    "        print(\"{} {} {}\".format(node.physicalId, node.moduleIndex(), node.data.flow))"
   ]
  },
  {
   "cell_type": "code",
   "execution_count": null,
   "metadata": {
    "slideshow": {
     "slide_type": "skip"
    }
   },
   "outputs": [],
   "source": []
  }
 ],
 "metadata": {
  "celltoolbar": "Slideshow",
  "kernelspec": {
   "display_name": "Python 3",
   "language": "python",
   "name": "python3"
  },
  "language_info": {
   "codemirror_mode": {
    "name": "ipython",
    "version": 3
   },
   "file_extension": ".py",
   "mimetype": "text/x-python",
   "name": "python",
   "nbconvert_exporter": "python",
   "pygments_lexer": "ipython3",
   "version": "3.6.5"
  },
  "rise": {
   "autolaunch": true
  }
 },
 "nbformat": 4,
 "nbformat_minor": 2
}
