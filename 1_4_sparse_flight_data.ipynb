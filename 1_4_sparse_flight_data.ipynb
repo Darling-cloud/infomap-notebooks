{
 "cells": [
  {
   "cell_type": "markdown",
   "metadata": {
    "slideshow": {
     "slide_type": "slide"
    }
   },
   "source": [
    "## Sparse flight data\n",
    "\n",
    "A key question for the generation of sparse state networks is _how_ sparse. If we lump all state nodes with each physical node, we lose all higher-order information and may underfit. On the other hand, keeping all second-order state nodes may overfit."
   ]
  },
  {
   "cell_type": "markdown",
   "metadata": {
    "slideshow": {
     "slide_type": "subslide"
    }
   },
   "source": [
    "In this tutorial, we will generate second-order state networks from path data, then from them generate multiple sparse networks with different number of (lumped) state nodes, and finally evaluate the result with Infomap."
   ]
  },
  {
   "cell_type": "markdown",
   "metadata": {
    "slideshow": {
     "slide_type": "subslide"
    }
   },
   "source": [
    "### Generate training and validation sets\n",
    "To get a bigger network, we can merge the flight path data from the four quarters (`\"data/air2015_{q}_paths.net\" for q in [1,2,3,4]`). To evaluate the goodness of fit, we can split each path randomly in either a _training_ or a _validation_ set and write a path data file for each of the data set."
   ]
  },
  {
   "cell_type": "code",
   "execution_count": 1,
   "metadata": {
    "slideshow": {
     "slide_type": "subslide"
    }
   },
   "outputs": [],
   "source": [
    "import numpy as np"
   ]
  },
  {
   "cell_type": "code",
   "execution_count": 2,
   "metadata": {
    "slideshow": {
     "slide_type": "subslide"
    }
   },
   "outputs": [
    {
     "name": "stdout",
     "output_type": "stream",
     "text": [
      "Parsing paths from 'data/air2015_1_paths.net'...\n",
      "Parsing paths from 'data/air2015_2_paths.net'...\n",
      "Parsing paths from 'data/air2015_3_paths.net'...\n",
      "Parsing paths from 'data/air2015_4_paths.net'...\n",
      "-> Writing 105095 paths to output/air2015_paths.net...\n"
     ]
    }
   ],
   "source": [
    "def combinePaths(inputFilenames, outputFilename):\n",
    "    \"\"\"Merge path data from inputFilenames and write to a single path data file\"\"\"\n",
    "    # Read path data\n",
    "    paths = []\n",
    "    for filename in inputFilenames:\n",
    "        print(\"Parsing paths from '{}'...\".format(filename))\n",
    "        with open(filename, mode='r') as infile:\n",
    "            isPath = False\n",
    "            for row in infile:\n",
    "                if not isPath and row[:6] == \"*paths\":\n",
    "                    isPath = True\n",
    "                    continue\n",
    "                if not isPath:\n",
    "                    continue\n",
    "                paths.append(row)\n",
    "    # Write path data\n",
    "    print(\"-> Writing {} paths to {}...\".format(len(paths), outputFilename))\n",
    "    with open(outputFilename, mode='w') as outfile:\n",
    "        outfile.write(\"*paths\\n\")\n",
    "        for p in paths:\n",
    "            outfile.write(p)\n",
    "\n",
    "inputFilenames = [\"data/air2015_{}_paths.net\".format(quarter) for quarter in [1,2,3,4]]\n",
    "combinePaths(inputFilenames, \"output/air2015_paths.net\")"
   ]
  },
  {
   "cell_type": "markdown",
   "metadata": {
    "slideshow": {
     "slide_type": "slide"
    }
   },
   "source": [
    "#### Generate state networks from paths"
   ]
  },
  {
   "cell_type": "code",
   "execution_count": 3,
   "metadata": {
    "slideshow": {
     "slide_type": "subslide"
    }
   },
   "outputs": [
    {
     "name": "stdout",
     "output_type": "stream",
     "text": [
      "Read path data from file 'output/air2015_paths.net'...\n",
      "Done, parsed 55036/105095 paths\n",
      " -> 27092 return paths\n",
      "Generated training state network: StateNetwork (298 physical nodes, 5219 state nodes and 22618 links)\n",
      "Writing state network to file 'output/states_training_order_2.net'...\n",
      "Generated validation state network: StateNetwork (298 physical nodes, 5219 state nodes and 22580 links)\n",
      "Writing state network to file 'output/states_validation_order_2.net'...\n",
      "Done!\n"
     ]
    }
   ],
   "source": [
    "from state_lumping_network import StateNetwork\n",
    "\n",
    "pathNetwork = StateNetwork()\n",
    "pathNetwork.generateStateNetworkFromPaths(\"output/air2015_paths.net\",\n",
    "                                          \"output/states_training_order_2.net\",\n",
    "                                          outputValidationFilename=\"output/states_validation_order_2.net\",\n",
    "                                          markovOrder=2, splitWeight=True, validationProb=0.2,\n",
    "                                          minPathLength=3, maxPathLength=4, seed=3)"
   ]
  },
  {
   "cell_type": "markdown",
   "metadata": {
    "slideshow": {
     "slide_type": "slide"
    }
   },
   "source": [
    "### Generate _sparse_ state networks\n",
    "\n",
    "Here we will generate multiple lumped state networks with different amount of state nodes. A simple way is to parameterise this with a cluster rate $r$ going from 0.1 to 1, where `n_clusters = max(1, int(r * numStateNodes)`. For convenience, you can just send in the argument `clusterRate` to `clusterStateNodes` to achieve this, instead of the cluster function in the previous tutorial."
   ]
  },
  {
   "cell_type": "code",
   "execution_count": 4,
   "metadata": {
    "slideshow": {
     "slide_type": "subslide"
    }
   },
   "outputs": [
    {
     "name": "stdout",
     "output_type": "stream",
     "text": [
      "Lumping training network with different cluster rates and lump validation network similarly\n",
      "Read state network from file 'output/states_training_order_2.net'...\n",
      " -> StateNetwork (298 physical nodes, 5219 state nodes and 22618 links)\n",
      "Read state network from file 'output/states_validation_order_2.net'...\n",
      " -> StateNetwork (298 physical nodes, 5219 state nodes and 22580 links)\n",
      "\n",
      "Original average entropy rate: 1.6927451171462986\n",
      "Original number of state nodes: 5219\n",
      "Cluster state nodes...\n",
      "Generate lumped state network from clustering...\n",
      " -> 718 state nodes and 6596 links in lumped network.\n",
      "Writing lumped state network to file 'output/states_training_lumped_0.net'...\n",
      "Cluster state nodes from clustering in network StateNetwork (298 physical nodes, 5219 state nodes and 22618 links)...\n",
      "Generate lumped state network from clustering...\n",
      " -> 718 state nodes and 6594 links in lumped network.\n",
      "Writing lumped state network to file 'output/states_validation_lumped_0.net'...\n",
      "Cluster state nodes...\n",
      "Generate lumped state network from clustering...\n",
      " -> 1146 state nodes and 8096 links in lumped network.\n",
      "Writing lumped state network to file 'output/states_training_lumped_1.net'...\n",
      "Cluster state nodes from clustering in network StateNetwork (298 physical nodes, 5219 state nodes and 22618 links)...\n",
      "Generate lumped state network from clustering...\n",
      " -> 1146 state nodes and 8089 links in lumped network.\n",
      "Writing lumped state network to file 'output/states_validation_lumped_1.net'...\n",
      "Cluster state nodes...\n",
      "Generate lumped state network from clustering...\n",
      " -> 1588 state nodes and 9864 links in lumped network.\n",
      "Writing lumped state network to file 'output/states_training_lumped_2.net'...\n",
      "Cluster state nodes from clustering in network StateNetwork (298 physical nodes, 5219 state nodes and 22618 links)...\n",
      "Generate lumped state network from clustering...\n",
      " -> 1588 state nodes and 9854 links in lumped network.\n",
      "Writing lumped state network to file 'output/states_validation_lumped_2.net'...\n",
      "Cluster state nodes...\n",
      "Generate lumped state network from clustering...\n",
      " -> 2058 state nodes and 11462 links in lumped network.\n",
      "Writing lumped state network to file 'output/states_training_lumped_3.net'...\n",
      "Cluster state nodes from clustering in network StateNetwork (298 physical nodes, 5219 state nodes and 22618 links)...\n",
      "Generate lumped state network from clustering...\n",
      " -> 2058 state nodes and 11451 links in lumped network.\n",
      "Writing lumped state network to file 'output/states_validation_lumped_3.net'...\n",
      "Cluster state nodes...\n",
      "Generate lumped state network from clustering...\n",
      " -> 2556 state nodes and 13245 links in lumped network.\n",
      "Writing lumped state network to file 'output/states_training_lumped_4.net'...\n",
      "Cluster state nodes from clustering in network StateNetwork (298 physical nodes, 5219 state nodes and 22618 links)...\n",
      "Generate lumped state network from clustering...\n",
      " -> 2556 state nodes and 13229 links in lumped network.\n",
      "Writing lumped state network to file 'output/states_validation_lumped_4.net'...\n",
      "Cluster state nodes...\n",
      "Generate lumped state network from clustering...\n",
      " -> 2994 state nodes and 15037 links in lumped network.\n",
      "Writing lumped state network to file 'output/states_training_lumped_5.net'...\n",
      "Cluster state nodes from clustering in network StateNetwork (298 physical nodes, 5219 state nodes and 22618 links)...\n",
      "Generate lumped state network from clustering...\n",
      " -> 2994 state nodes and 15018 links in lumped network.\n",
      "Writing lumped state network to file 'output/states_validation_lumped_5.net'...\n",
      "Cluster state nodes...\n",
      "Generate lumped state network from clustering...\n",
      " -> 3464 state nodes and 16874 links in lumped network.\n",
      "Writing lumped state network to file 'output/states_training_lumped_6.net'...\n",
      "Cluster state nodes from clustering in network StateNetwork (298 physical nodes, 5219 state nodes and 22618 links)...\n",
      "Generate lumped state network from clustering...\n",
      " -> 3464 state nodes and 16850 links in lumped network.\n",
      "Writing lumped state network to file 'output/states_validation_lumped_6.net'...\n",
      "Cluster state nodes...\n",
      "Generate lumped state network from clustering...\n",
      " -> 3952 state nodes and 18909 links in lumped network.\n",
      "Writing lumped state network to file 'output/states_training_lumped_7.net'...\n",
      "Cluster state nodes from clustering in network StateNetwork (298 physical nodes, 5219 state nodes and 22618 links)...\n",
      "Generate lumped state network from clustering...\n",
      " -> 3952 state nodes and 18879 links in lumped network.\n",
      "Writing lumped state network to file 'output/states_validation_lumped_7.net'...\n",
      "Cluster state nodes...\n",
      "Generate lumped state network from clustering...\n",
      " -> 4400 state nodes and 20873 links in lumped network.\n",
      "Writing lumped state network to file 'output/states_training_lumped_8.net'...\n",
      "Cluster state nodes from clustering in network StateNetwork (298 physical nodes, 5219 state nodes and 22618 links)...\n",
      "Generate lumped state network from clustering...\n",
      " -> 4400 state nodes and 20838 links in lumped network.\n",
      "Writing lumped state network to file 'output/states_validation_lumped_8.net'...\n",
      "Cluster state nodes...\n",
      "Generate lumped state network from clustering...\n",
      " -> 5002 state nodes and 22618 links in lumped network.\n",
      "Writing lumped state network to file 'output/states_training_lumped_9.net'...\n",
      "Cluster state nodes from clustering in network StateNetwork (298 physical nodes, 5219 state nodes and 22618 links)...\n",
      "Generate lumped state network from clustering...\n",
      " -> 5002 state nodes and 22580 links in lumped network.\n",
      "Writing lumped state network to file 'output/states_validation_lumped_9.net'...\n"
     ]
    }
   ],
   "source": [
    "import matplotlib.pyplot as plt\n",
    "import numpy as np\n",
    "\n",
    "print(\"Lumping training network with different cluster rates and lump validation network similarly\")\n",
    "trainingNet = StateNetwork()\n",
    "trainingNet.readFromFile(\"output/states_training_order_2.net\")\n",
    "validationNet = StateNetwork()\n",
    "validationNet.readFromFile(\"output/states_validation_order_2.net\")\n",
    "\n",
    "h0 = trainingNet.calcEntropyRate()\n",
    "print(\"\\nOriginal average entropy rate:\", h0)\n",
    "print(\"Original number of state nodes:\", trainingNet.numStateNodes())\n",
    "\n",
    "clusterRates = np.linspace(0.1, 1, 10)\n",
    "# clusterRates = [0.1, 0.3, 0.5, 0.7, 0.9, 0.95, 0.98, 0.99, 0.999, 1.0]\n",
    "trainNumStates = []\n",
    "trainEntropyRate = []\n",
    "valNumStates = []\n",
    "valEntropyRate = []\n",
    "\n",
    "for i, clusterRate in enumerate(clusterRates):\n",
    "    trainingNet.clusterStateNodes(clusterRate=clusterRate)\n",
    "    s = trainingNet.numLumpedStateNodes()\n",
    "    h = trainingNet.calcLumpedEntropyRate()\n",
    "    trainNumStates.append(s)\n",
    "    trainEntropyRate.append(h)\n",
    "    trainingNet.writeLumpedStateNetwork(\"output/states_training_lumped_{}.net\".format(i))\n",
    "    validationNet.clusterStateNodesFromNetwork(trainingNet)\n",
    "    validationNet.writeLumpedStateNetwork(\"output/states_validation_lumped_{}.net\".format(i))\n",
    "    s = trainingNet.numLumpedStateNodes()\n",
    "    h = trainingNet.calcLumpedEntropyRate()\n",
    "    valNumStates.append(s)\n",
    "    valEntropyRate.append(h)"
   ]
  },
  {
   "cell_type": "markdown",
   "metadata": {
    "slideshow": {
     "slide_type": "subslide"
    }
   },
   "source": [
    "#### How much information do we lose as we reduce the number of state nodes?"
   ]
  },
  {
   "cell_type": "code",
   "execution_count": 5,
   "metadata": {
    "slideshow": {
     "slide_type": "subslide"
    }
   },
   "outputs": [
    {
     "data": {
      "image/png": "[encoded data removed]",
      "text/plain": [
       "<Figure size 432x288 with 1 Axes>"
      ]
     },
     "metadata": {},
     "output_type": "display_data"
    }
   ],
   "source": [
    "plt.plot(trainNumStates, trainEntropyRate, marker='o')\n",
    "plt.plot(valNumStates, valEntropyRate, marker='x')\n",
    "plt.xlabel(\"number of lumped states\")\n",
    "plt.ylabel(\"entropy rate\")\n",
    "plt.axhline(y=h0, color='r', linestyle='-')\n",
    "# plt.axvline(x=sparseNet.numStateNodes(), color='r')\n",
    "plt.show()"
   ]
  },
  {
   "cell_type": "markdown",
   "metadata": {
    "slideshow": {
     "slide_type": "subslide"
    }
   },
   "source": [
    "Note that the original number of state nodes can be much larger than the maximum in the lumped state networks due to dangling nodes, which are lumped implicitly."
   ]
  },
  {
   "cell_type": "markdown",
   "metadata": {
    "slideshow": {
     "slide_type": "slide"
    }
   },
   "source": [
    "### Validate with Infomap\n",
    "The goal here is to calculate the codelength for the validation network, given the different partitions found on the lumped training networks."
   ]
  },
  {
   "cell_type": "code",
   "execution_count": 6,
   "metadata": {
    "slideshow": {
     "slide_type": "subslide"
    }
   },
   "outputs": [],
   "source": [
    "import infomap\n",
    "trainingCodelengths = []\n",
    "validationCodelengths = []\n",
    "\n",
    "def calcCodelength(inputFilename, cluInputFile, flags=\"--directed --two-level\"):\n",
    "    im = infomap.Infomap(\"{} --no-infomap --input {} --cluster-data {}\".format(flags, inputFilename, cluInputFile))\n",
    "    im.run()\n",
    "    return im.codelength()\n",
    "\n",
    "def partition(inputFilename, cluOutputFile=None, flags=\"--directed --two-level\"):\n",
    "    im = infomap.Infomap(flags)\n",
    "    im.network().readInputData(inputFilename)\n",
    "    im.run()\n",
    "    if cluOutputFile:\n",
    "        # Use second argument True to write the state-level clustering\n",
    "        im.writeClu(cluOutputFile, True) # Second parameter shows States\n",
    "    return im.codelength()"
   ]
  },
  {
   "cell_type": "code",
   "execution_count": 7,
   "metadata": {
    "slideshow": {
     "slide_type": "subslide"
    }
   },
   "outputs": [
    {
     "name": "stdout",
     "output_type": "stream",
     "text": [
      "0: training codelength: 6.763453569382501 (718 nodes), validation codelength: 6.765893948539337 (718 nodes)\n",
      "1: training codelength: 7.062682391989861 (1146 nodes), validation codelength: 7.064623702435323 (1146 nodes)\n",
      "2: training codelength: 6.868078884359339 (1588 nodes), validation codelength: 6.870577116418336 (1588 nodes)\n",
      "3: training codelength: 6.294329321316967 (2058 nodes), validation codelength: 6.350174671645114 (2058 nodes)\n",
      "4: training codelength: 5.629620588345946 (2556 nodes), validation codelength: 5.74992309772256 (2556 nodes)\n",
      "5: training codelength: 4.994952615451575 (2994 nodes), validation codelength: 5.127099760422937 (2994 nodes)\n",
      "6: training codelength: 4.5555442654593135 (3464 nodes), validation codelength: 4.72011646467018 (3464 nodes)\n",
      "7: training codelength: 4.309040434545157 (3952 nodes), validation codelength: 4.959221774348506 (3952 nodes)\n",
      "8: training codelength: 4.294350825872546 (4400 nodes), validation codelength: 5.0142723633568504 (4400 nodes)\n",
      "9: training codelength: 4.3923689883311035 (5002 nodes), validation codelength: 5.234290000203916 (5002 nodes)\n"
     ]
    }
   ],
   "source": [
    "for i, clusterRate in enumerate(clusterRates):\n",
    "    trainingCodelength = partition(\"output/states_training_lumped_{}.net\".format(i),\n",
    "             \"output/states_training_lumped_{}.clu\".format(i))\n",
    "    validationCodelength = calcCodelength(\"output/states_validation_lumped_{}.net\".format(i),\n",
    "             \"output/states_training_lumped_{}.clu\".format(i))\n",
    "    trainingCodelengths.append(trainingCodelength)\n",
    "    validationCodelengths.append(validationCodelength)\n",
    "    print(\"{}: training codelength: {} ({} nodes), validation codelength: {} ({} nodes)\".format(i, trainingCodelength, trainNumStates[i], validationCodelength, valNumStates[i]))\n"
   ]
  },
  {
   "cell_type": "code",
   "execution_count": 8,
   "metadata": {
    "slideshow": {
     "slide_type": "subslide"
    }
   },
   "outputs": [
    {
     "data": {
      "image/png": "[encoded data removed]",
      "text/plain": [
       "<Figure size 432x288 with 1 Axes>"
      ]
     },
     "metadata": {},
     "output_type": "display_data"
    }
   ],
   "source": [
    "plt.plot(trainNumStates, trainingCodelengths, marker='o')\n",
    "plt.plot(valNumStates, validationCodelengths, marker='x')\n",
    "plt.legend([\"training\", \"validation\"])\n",
    "plt.xlabel(\"number of state nodes\")\n",
    "plt.ylabel(\"codelength\")\n",
    "# plt.ylim(ymin=7, ymax=8)\n",
    "plt.show()"
   ]
  },
  {
   "cell_type": "code",
   "execution_count": null,
   "metadata": {
    "slideshow": {
     "slide_type": "skip"
    }
   },
   "outputs": [],
   "source": []
  }
 ],
 "metadata": {
  "celltoolbar": "Slideshow",
  "kernelspec": {
   "display_name": "Python 3",
   "language": "python",
   "name": "python3"
  },
  "language_info": {
   "codemirror_mode": {
    "name": "ipython",
    "version": 3
   },
   "file_extension": ".py",
   "mimetype": "text/x-python",
   "name": "python",
   "nbconvert_exporter": "python",
   "pygments_lexer": "ipython3",
   "version": "3.6.5"
  }
 },
 "nbformat": 4,
 "nbformat_minor": 2
}
