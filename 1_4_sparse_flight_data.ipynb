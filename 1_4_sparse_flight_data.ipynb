{
 "cells": [
  {
   "cell_type": "markdown",
   "metadata": {},
   "source": [
    "## Sparse flight data\n",
    "\n",
    "A key question for the generation of sparse state networks is _how_ sparse. If we lump all state nodes with each physical node, we lose all higher-order information and may underfit. On the other hand, keeping all second-order state nodes may overfit.\n",
    "\n",
    "In this tutorial we will generate second-order state networks from path data and from there generate multiple sparse networks with different number of (lumped) state nodes and evaluate the result with Infomap"
   ]
  },
  {
   "cell_type": "markdown",
   "metadata": {},
   "source": [
    "### Generate training and validation sets\n",
    "To get a bigger network, we can merge the flight path data from the four quarters (`\"data/air2015_{q}_paths.net\" for q in [1,2,3,4]`). But to evaluate the goodness of fit, we can split each path randomly in either a _training_ or a _validation_ set and write a path data file for each of the data set."
   ]
  },
  {
   "cell_type": "code",
   "execution_count": 1,
   "metadata": {},
   "outputs": [
    {
     "name": "stdout",
     "output_type": "stream",
     "text": [
      "Parsing paths from 'data/air2015_1_paths.net'...\n",
      "Parsing paths from 'data/air2015_2_paths.net'...\n",
      "Parsing paths from 'data/air2015_3_paths.net'...\n",
      "Parsing paths from 'data/air2015_4_paths.net'...\n",
      "-> Writing 33697 paths to output/paths_training.net...\n",
      "-> Writing 33328 paths to output/paths_validation.net...\n"
     ]
    }
   ],
   "source": [
    "from random import random\n",
    "\n",
    "def generateData(inputFilenames):\n",
    "    \"\"\"Merge path data from inputFilenames and write to two path data files\n",
    "    for training and validation. Each path in the input data is selected by\n",
    "    random to be written to either the training or validation data file\"\"\"\n",
    "    data = { 'training': [], 'validation': [] }\n",
    "    # Read path data\n",
    "    for filename in inputFilenames:\n",
    "        print(\"Parsing paths from '{}'...\".format(filename))\n",
    "        with open(filename, mode='r') as infile:\n",
    "            isPath = False\n",
    "            for row in infile:\n",
    "                if not isPath and row[:6] == \"*paths\":\n",
    "                    isPath = True\n",
    "                    continue\n",
    "                if not isPath:\n",
    "                    continue\n",
    "                if random() < 0.5:\n",
    "                    data['validation'].append(row)\n",
    "                else:\n",
    "                    data['training'].append(row)\n",
    "    # Write path data\n",
    "    for name, paths in data.items():\n",
    "        outFilename = \"output/paths_{}.net\".format(name)\n",
    "        print(\"-> Writing {} paths to {}...\".format(len(paths), outFilename))\n",
    "        with open(outFilename, mode='w') as outfile:\n",
    "            outfile.write(\"*paths\\n\")\n",
    "            for p in paths:\n",
    "                outfile.write(p)\n",
    "\n",
    "inputFilenames = [\"data/air2015_{}_paths.net\".format(quarter) for quarter in [1,2,3,4]]\n",
    "generateData(inputFilenames)"
   ]
  },
  {
   "cell_type": "markdown",
   "metadata": {},
   "source": [
    "#### Generate state networks from paths"
   ]
  },
  {
   "cell_type": "code",
   "execution_count": 2,
   "metadata": {},
   "outputs": [
    {
     "name": "stdout",
     "output_type": "stream",
     "text": [
      "Reading output/paths_training.net...\n",
      "Writing output/states_training_order_2.net...\n",
      "Reading output/paths_validation.net...\n",
      "Writing output/states_validation_order_2.net...\n"
     ]
    }
   ],
   "source": [
    "import infomap\n",
    "def generateStateNetworkFromPaths(inputFilename, outputFilename, markovOrder):\n",
    "    network = infomap.Network(\"--directed --path-markov-order {}\".format(markovOrder))\n",
    "    print(\"Reading {}...\".format(inputFilename))\n",
    "    network.readInputData(inputFilename)\n",
    "    print(\"Writing {}...\".format(outputFilename))\n",
    "    network.writeStateNetwork(outputFilename)\n",
    "\n",
    "generateStateNetworkFromPaths(\"output/paths_training.net\", \"output/states_training_order_2.net\", 2)\n",
    "generateStateNetworkFromPaths(\"output/paths_validation.net\", \"output/states_validation_order_2.net\", 2)"
   ]
  },
  {
   "cell_type": "markdown",
   "metadata": {},
   "source": [
    "### Generate _sparse_ state networks\n",
    "\n",
    "Here we will generate multiple lumped state networks with different amount of state nodes. A simple way is to parameterise this with a cluster rate $r$ going from 0.1 to 1, where `n_clusters = max(1, int(r * numStateNodes)`. For convenience, you can just send in the argument `clusterRate` to `clusterStateNodes` to achieve this, instead of the cluster function in the previous tutorial."
   ]
  },
  {
   "cell_type": "code",
   "execution_count": 3,
   "metadata": {},
   "outputs": [
    {
     "name": "stdout",
     "output_type": "stream",
     "text": [
      "Read state network from file 'output/states_training_order_2.net'...\n",
      " -> StateNetwork (351 physical nodes, 5191 state nodes and 20201 links)\n",
      "\n",
      "Original average entropy rate: 3.887406843454422\n",
      "Original number of state nodes: 5191\n",
      "Cluster state nodes...\n",
      "Generate lumped state network from clustering...\n",
      " -> 784 state nodes and 8210 links in lumped network.\n",
      "Writing lumped state network to file 'output/states_training_lumped_0.net'...\n",
      "Cluster state nodes...\n",
      "Generate lumped state network from clustering...\n",
      " -> 1063 state nodes and 10730 links in lumped network.\n",
      "Writing lumped state network to file 'output/states_training_lumped_1.net'...\n",
      "Cluster state nodes...\n",
      "Generate lumped state network from clustering...\n",
      " -> 1358 state nodes and 12412 links in lumped network.\n",
      "Writing lumped state network to file 'output/states_training_lumped_2.net'...\n",
      "Cluster state nodes...\n",
      "Generate lumped state network from clustering...\n",
      " -> 1669 state nodes and 14026 links in lumped network.\n",
      "Writing lumped state network to file 'output/states_training_lumped_3.net'...\n",
      "Cluster state nodes...\n",
      "Generate lumped state network from clustering...\n",
      " -> 2008 state nodes and 15399 links in lumped network.\n",
      "Writing lumped state network to file 'output/states_training_lumped_4.net'...\n",
      "Cluster state nodes...\n",
      "Generate lumped state network from clustering...\n",
      " -> 2303 state nodes and 16574 links in lumped network.\n",
      "Writing lumped state network to file 'output/states_training_lumped_5.net'...\n",
      "Cluster state nodes...\n",
      "Generate lumped state network from clustering...\n",
      " -> 2637 state nodes and 17761 links in lumped network.\n",
      "Writing lumped state network to file 'output/states_training_lumped_6.net'...\n",
      "Cluster state nodes...\n",
      "Generate lumped state network from clustering...\n",
      " -> 2975 state nodes and 18883 links in lumped network.\n",
      "Writing lumped state network to file 'output/states_training_lumped_7.net'...\n",
      "Cluster state nodes...\n",
      "Generate lumped state network from clustering...\n",
      " -> 3278 state nodes and 19583 links in lumped network.\n",
      "Writing lumped state network to file 'output/states_training_lumped_8.net'...\n",
      "Cluster state nodes...\n",
      "Generate lumped state network from clustering...\n",
      " -> 3735 state nodes and 20201 links in lumped network.\n",
      "Writing lumped state network to file 'output/states_training_lumped_9.net'...\n"
     ]
    }
   ],
   "source": [
    "import matplotlib.pyplot as plt\n",
    "import numpy as np\n",
    "from state_lumping_network import StateNetwork\n",
    "\n",
    "sparseNet = StateNetwork()\n",
    "sparseNet.readFromFile(\"output/states_training_order_2.net\")\n",
    "\n",
    "h0 = sparseNet.calcEntropyRate()\n",
    "print(\"\\nOriginal average entropy rate:\", h0)\n",
    "print(\"Original number of state nodes:\", sparseNet.numStateNodes())\n",
    "\n",
    "clusterRates = np.linspace(0.1, 1, 10)\n",
    "numStates = []\n",
    "entropyRate = []\n",
    "\n",
    "for i, clusterRate in enumerate(clusterRates):\n",
    "    sparseNet.clusterStateNodes(clusterRate=clusterRate)\n",
    "    s = sparseNet.numLumpedStateNodes()\n",
    "    h = sparseNet.calcLumpedEntropyRate()\n",
    "    sparseNet.writeLumpedStateNetwork(\"output/states_training_lumped_{}.net\".format(i))\n",
    "    numStates.append(s)\n",
    "    entropyRate.append(h)"
   ]
  },
  {
   "cell_type": "markdown",
   "metadata": {},
   "source": [
    "#### How much information do we lose as we reduce the number of state nodes?"
   ]
  },
  {
   "cell_type": "code",
   "execution_count": 4,
   "metadata": {},
   "outputs": [
    {
     "data": {
      "image/png": "[encoded data removed]",
      "text/plain": [
       "<Figure size 432x288 with 1 Axes>"
      ]
     },
     "metadata": {},
     "output_type": "display_data"
    }
   ],
   "source": [
    "plt.plot(numStates, entropyRate, marker='o')\n",
    "plt.xlabel(\"number of lumped states\")\n",
    "plt.ylabel(\"entropy rate\")\n",
    "plt.axhline(y=h0, color='r', linestyle='-')\n",
    "# plt.axvline(x=sparseNet.numStateNodes(), color='r')\n",
    "plt.show()"
   ]
  },
  {
   "cell_type": "markdown",
   "metadata": {},
   "source": [
    "Note that the original number of state nodes can be much larger than the maximum in the lumped state networks due to dangling nodes which are lumped implicitly."
   ]
  },
  {
   "cell_type": "markdown",
   "metadata": {},
   "source": [
    "### Validate with Infomap\n",
    "The goal here is to calculate the codelength for the validation network, given the different partitions found on the lumped training networks."
   ]
  },
  {
   "cell_type": "code",
   "execution_count": 6,
   "metadata": {},
   "outputs": [
    {
     "name": "stdout",
     "output_type": "stream",
     "text": [
      "0: training codelength: 7.550674714449653, validation codelength: 11.838026721702226\n",
      "1: training codelength: 7.778881740421356, validation codelength: 12.140050672133592\n",
      "2: training codelength: 7.728541914735246, validation codelength: 12.193429334875812\n",
      "3: training codelength: 7.6219669913265164, validation codelength: 12.176362192962259\n",
      "4: training codelength: 7.514583549836058, validation codelength: 12.201124314709695\n",
      "5: training codelength: 7.463096062807431, validation codelength: 12.205834652198668\n",
      "6: training codelength: 7.418770366761213, validation codelength: 12.25203275108717\n",
      "7: training codelength: 7.372582922969545, validation codelength: 12.168403060171698\n",
      "8: training codelength: 7.369295468647736, validation codelength: 12.175225522579652\n",
      "9: training codelength: 7.352775997447965, validation codelength: 12.182925943136285\n"
     ]
    }
   ],
   "source": [
    "trainingCodelengths = []\n",
    "validationCodelengths = []\n",
    "\n",
    "def calcCodelength(inputFilename, cluInputFile, flags=\"--directed --two-level\"):\n",
    "    im = infomap.Infomap(\"{} --no-infomap --input {} --cluster-data {}\".format(flags, inputFilename, cluInputFile))\n",
    "    im.run()\n",
    "    return im.codelength()\n",
    "\n",
    "def partition(inputFilename, cluOutputFile=None, flags=\"--directed --two-level\"):\n",
    "    im = infomap.Infomap(flags)\n",
    "    im.network().readInputData(inputFilename)\n",
    "    im.run()\n",
    "    if cluOutputFile:\n",
    "        # Use second argument True to write the state-level clustering\n",
    "        im.writeClu(cluOutputFile, True) # Second parameter shows States\n",
    "    return im.codelength()\n",
    "\n",
    "\n",
    "for i, clusterRate in enumerate(clusterRates):\n",
    "    trainingCodelength = partition(\"output/states_training_lumped_{}.net\".format(i),\n",
    "             \"output/states_training_lumped_{}.clu\".format(i))\n",
    "    validationCodelength = calcCodelength(\"output/states_validation_order_2.net\",\n",
    "             \"output/states_training_lumped_{}.clu\".format(i))\n",
    "    trainingCodelengths.append(trainingCodelength)\n",
    "    validationCodelengths.append(validationCodelength)\n",
    "    print(\"{}: training codelength: {}, validation codelength: {}\".format(i, trainingCodelength, validationCodelength))\n",
    "    \n",
    "\n"
   ]
  },
  {
   "cell_type": "code",
   "execution_count": 7,
   "metadata": {},
   "outputs": [
    {
     "data": {
      "image/png": "[encoded data removed]",
      "text/plain": [
       "<Figure size 432x288 with 1 Axes>"
      ]
     },
     "metadata": {},
     "output_type": "display_data"
    }
   ],
   "source": [
    "plt.plot(numStates, trainingCodelengths, marker='o')\n",
    "plt.plot(numStates, validationCodelengths, marker='x')\n",
    "plt.legend([\"training\", \"validation\"])\n",
    "plt.xlabel(\"number of lumped states\")\n",
    "plt.ylabel(\"codelength\")\n",
    "plt.ylim(ymin=4)\n",
    "plt.show()"
   ]
  },
  {
   "cell_type": "code",
   "execution_count": null,
   "metadata": {},
   "outputs": [],
   "source": []
  }
 ],
 "metadata": {
  "kernelspec": {
   "display_name": "Python 3",
   "language": "python",
   "name": "python3"
  },
  "language_info": {
   "codemirror_mode": {
    "name": "ipython",
    "version": 3
   },
   "file_extension": ".py",
   "mimetype": "text/x-python",
   "name": "python",
   "nbconvert_exporter": "python",
   "pygments_lexer": "ipython3",
   "version": "3.6.5"
  }
 },
 "nbformat": 4,
 "nbformat_minor": 2
}
