{
 "cells": [
  {
   "cell_type": "markdown",
   "metadata": {},
   "source": [
    "## Sparse flight data\n",
    "\n",
    "A key question for the generation of sparse state networks is _how_ sparse. If we lump all state nodes with each physical node, we lose all higher-order information and may underfit. On the other hand, keeping all second-order state nodes may overfit.\n",
    "\n",
    "In this tutorial we will generate second-order state networks from path data and from there generate multiple sparse networks with different number of (lumped) state nodes and evaluate the result with Infomap"
   ]
  },
  {
   "cell_type": "markdown",
   "metadata": {},
   "source": [
    "### Generate training and validation sets\n",
    "To get a bigger network, we can merge the flight path data from the four quarters (`\"data/air2015_{q}_paths.net\" for q in [1,2,3,4]`). But to evaluate the goodness of fit, we can split each individual path randomly in either a _training_ or a _validation_ set. `StateNetwork` can generate that split to preserve same stateId for same physical n-grams between the networks."
   ]
  },
  {
   "cell_type": "code",
   "execution_count": 1,
   "metadata": {},
   "outputs": [],
   "source": [
    "import numpy as np"
   ]
  },
  {
   "cell_type": "code",
   "execution_count": 2,
   "metadata": {},
   "outputs": [
    {
     "name": "stdout",
     "output_type": "stream",
     "text": [
      "Parsing paths from 'data/air2015_1_paths.net'...\n",
      "Parsing paths from 'data/air2015_2_paths.net'...\n",
      "Parsing paths from 'data/air2015_3_paths.net'...\n",
      "Parsing paths from 'data/air2015_4_paths.net'...\n",
      "-> Writing 67025 paths to output/air2015_paths.net...\n"
     ]
    }
   ],
   "source": [
    "def combinePaths(inputFilenames, outputFilename):\n",
    "    \"\"\"Merge path data from inputFilenames and write to a single path data file\"\"\"\n",
    "    # Read path data\n",
    "    paths = []\n",
    "    for filename in inputFilenames:\n",
    "        print(\"Parsing paths from '{}'...\".format(filename))\n",
    "        with open(filename, mode='r') as infile:\n",
    "            isPath = False\n",
    "            for row in infile:\n",
    "                if not isPath and row[:6] == \"*paths\":\n",
    "                    isPath = True\n",
    "                    continue\n",
    "                if not isPath:\n",
    "                    continue\n",
    "                paths.append(row)\n",
    "    # Write path data\n",
    "    print(\"-> Writing {} paths to {}...\".format(len(paths), outputFilename))\n",
    "    with open(outputFilename, mode='w') as outfile:\n",
    "        outfile.write(\"*paths\\n\")\n",
    "        for p in paths:\n",
    "            outfile.write(p)\n",
    "\n",
    "inputFilenames = [\"data/air2015_{}_paths.net\".format(quarter) for quarter in [1,2,3,4]]\n",
    "combinePaths(inputFilenames, \"output/air2015_paths.net\")"
   ]
  },
  {
   "cell_type": "markdown",
   "metadata": {},
   "source": [
    "#### Generate state networks from paths"
   ]
  },
  {
   "cell_type": "code",
   "execution_count": 13,
   "metadata": {},
   "outputs": [
    {
     "name": "stdout",
     "output_type": "stream",
     "text": [
      "Read path data from file 'output/air2015_paths.net'...\n",
      "Generated training state network: StateNetwork (360 physical nodes, 5517 state nodes and 25667 links)\n",
      "Writing state network to file 'output/states_training_order_2.net'...\n",
      "Generated validation state network: StateNetwork (360 physical nodes, 5516 state nodes and 25618 links)\n",
      "Writing state network to file 'output/states_validation_order_2.net'...\n",
      "Done!\n"
     ]
    }
   ],
   "source": [
    "from state_lumping_network import StateNetwork\n",
    "\n",
    "pathNetwork = StateNetwork()\n",
    "pathNetwork.generateStateNetworkFromPaths(\"output/air2015_paths.net\",\n",
    "                                          \"output/states_training_order_2.net\",\n",
    "                                          outputValidationFilename=\"output/states_validation_order_2.net\",\n",
    "                                          markovOrder=2, splitWeight=True, validationProb=0.2)"
   ]
  },
  {
   "cell_type": "markdown",
   "metadata": {},
   "source": [
    "### Generate _sparse_ state networks\n",
    "\n",
    "Here we will generate multiple lumped state networks with different amount of state nodes. A simple way is to parameterise this with a cluster rate $r$ going from 0.1 to 1, where `n_clusters = max(1, int(r * numStateNodes)`. For convenience, you can just send in the argument `clusterRate` to `clusterStateNodes` to achieve this, instead of the cluster function in the previous tutorial."
   ]
  },
  {
   "cell_type": "code",
   "execution_count": 14,
   "metadata": {},
   "outputs": [
    {
     "name": "stdout",
     "output_type": "stream",
     "text": [
      "Lumping training network with different cluster rates and lump validation network similarly\n",
      "Read state network from file 'output/states_training_order_2.net'...\n",
      " -> StateNetwork (360 physical nodes, 5517 state nodes and 25667 links)\n",
      "Read state network from file 'output/states_validation_order_2.net'...\n",
      " -> StateNetwork (360 physical nodes, 5516 state nodes and 25618 links)\n",
      "\n",
      "Original average entropy rate: 4.039221055939719\n",
      "Original number of state nodes: 5517\n",
      "Cluster state nodes...\n",
      "Generate lumped state network from clustering...\n",
      " -> 819 state nodes and 8797 links in lumped network.\n",
      "Writing lumped state network to file 'output/states_training_lumped_0.net'...\n",
      "Cluster state nodes from clustering in network StateNetwork (360 physical nodes, 5517 state nodes and 25667 links)...\n",
      "Generate lumped state network from clustering...\n",
      " -> 819 state nodes and 8792 links in lumped network.\n",
      "Writing lumped state network to file 'output/states_validation_lumped_0.net'...\n",
      "Cluster state nodes...\n",
      "Generate lumped state network from clustering...\n",
      " -> 1140 state nodes and 12069 links in lumped network.\n",
      "Writing lumped state network to file 'output/states_training_lumped_1.net'...\n",
      "Cluster state nodes from clustering in network StateNetwork (360 physical nodes, 5517 state nodes and 25667 links)...\n",
      "Generate lumped state network from clustering...\n",
      " -> 1140 state nodes and 12059 links in lumped network.\n",
      "Writing lumped state network to file 'output/states_validation_lumped_1.net'...\n",
      "Cluster state nodes...\n",
      "Generate lumped state network from clustering...\n",
      " -> 1472 state nodes and 14373 links in lumped network.\n",
      "Writing lumped state network to file 'output/states_training_lumped_2.net'...\n",
      "Cluster state nodes from clustering in network StateNetwork (360 physical nodes, 5517 state nodes and 25667 links)...\n",
      "Generate lumped state network from clustering...\n",
      " -> 1472 state nodes and 14355 links in lumped network.\n",
      "Writing lumped state network to file 'output/states_validation_lumped_2.net'...\n",
      "Cluster state nodes...\n",
      "Generate lumped state network from clustering...\n",
      " -> 1829 state nodes and 16434 links in lumped network.\n",
      "Writing lumped state network to file 'output/states_training_lumped_3.net'...\n",
      "Cluster state nodes from clustering in network StateNetwork (360 physical nodes, 5517 state nodes and 25667 links)...\n",
      "Generate lumped state network from clustering...\n",
      " -> 1829 state nodes and 16411 links in lumped network.\n",
      "Writing lumped state network to file 'output/states_validation_lumped_3.net'...\n",
      "Cluster state nodes...\n",
      "Generate lumped state network from clustering...\n",
      " -> 2207 state nodes and 18217 links in lumped network.\n",
      "Writing lumped state network to file 'output/states_training_lumped_4.net'...\n",
      "Cluster state nodes from clustering in network StateNetwork (360 physical nodes, 5517 state nodes and 25667 links)...\n",
      "Generate lumped state network from clustering...\n",
      " -> 2207 state nodes and 18189 links in lumped network.\n",
      "Writing lumped state network to file 'output/states_validation_lumped_4.net'...\n",
      "Cluster state nodes...\n",
      "Generate lumped state network from clustering...\n",
      " -> 2548 state nodes and 20024 links in lumped network.\n",
      "Writing lumped state network to file 'output/states_training_lumped_5.net'...\n",
      "Cluster state nodes from clustering in network StateNetwork (360 physical nodes, 5517 state nodes and 25667 links)...\n",
      "Generate lumped state network from clustering...\n",
      " -> 2548 state nodes and 19988 links in lumped network.\n",
      "Writing lumped state network to file 'output/states_validation_lumped_5.net'...\n",
      "Cluster state nodes...\n",
      "Generate lumped state network from clustering...\n",
      " -> 2916 state nodes and 21578 links in lumped network.\n",
      "Writing lumped state network to file 'output/states_training_lumped_6.net'...\n",
      "Cluster state nodes from clustering in network StateNetwork (360 physical nodes, 5517 state nodes and 25667 links)...\n",
      "Generate lumped state network from clustering...\n",
      " -> 2916 state nodes and 21537 links in lumped network.\n",
      "Writing lumped state network to file 'output/states_validation_lumped_6.net'...\n",
      "Cluster state nodes...\n",
      "Generate lumped state network from clustering...\n",
      " -> 3296 state nodes and 23429 links in lumped network.\n",
      "Writing lumped state network to file 'output/states_training_lumped_7.net'...\n",
      "Cluster state nodes from clustering in network StateNetwork (360 physical nodes, 5517 state nodes and 25667 links)...\n",
      "Generate lumped state network from clustering...\n",
      " -> 3296 state nodes and 23383 links in lumped network.\n",
      "Writing lumped state network to file 'output/states_validation_lumped_7.net'...\n",
      "Cluster state nodes...\n",
      "Generate lumped state network from clustering...\n",
      " -> 3638 state nodes and 24737 links in lumped network.\n",
      "Writing lumped state network to file 'output/states_training_lumped_8.net'...\n",
      "Cluster state nodes from clustering in network StateNetwork (360 physical nodes, 5517 state nodes and 25667 links)...\n",
      "Generate lumped state network from clustering...\n",
      " -> 3638 state nodes and 24691 links in lumped network.\n",
      "Writing lumped state network to file 'output/states_validation_lumped_8.net'...\n",
      "Cluster state nodes...\n",
      "Generate lumped state network from clustering...\n",
      " -> 4136 state nodes and 25667 links in lumped network.\n",
      "Writing lumped state network to file 'output/states_training_lumped_9.net'...\n",
      "Cluster state nodes from clustering in network StateNetwork (360 physical nodes, 5517 state nodes and 25667 links)...\n",
      "Generate lumped state network from clustering...\n",
      " -> 4136 state nodes and 25618 links in lumped network.\n",
      "Writing lumped state network to file 'output/states_validation_lumped_9.net'...\n"
     ]
    }
   ],
   "source": [
    "import matplotlib.pyplot as plt\n",
    "import numpy as np\n",
    "\n",
    "print(\"Lumping training network with different cluster rates and lump validation network similarly\")\n",
    "trainingNet = StateNetwork()\n",
    "trainingNet.readFromFile(\"output/states_training_order_2.net\")\n",
    "validationNet = StateNetwork()\n",
    "validationNet.readFromFile(\"output/states_validation_order_2.net\")\n",
    "\n",
    "h0 = trainingNet.calcEntropyRate()\n",
    "print(\"\\nOriginal average entropy rate:\", h0)\n",
    "print(\"Original number of state nodes:\", trainingNet.numStateNodes())\n",
    "\n",
    "clusterRates = np.linspace(0.1, 1, 10)\n",
    "# clusterRates = [0.1, 0.3, 0.5, 0.7, 0.9, 0.95, 0.98, 0.99, 0.999, 1.0]\n",
    "trainNumStates = []\n",
    "trainEntropyRate = []\n",
    "valNumStates = []\n",
    "valEntropyRate = []\n",
    "\n",
    "for i, clusterRate in enumerate(clusterRates):\n",
    "    trainingNet.clusterStateNodes(clusterRate=clusterRate)\n",
    "    s = trainingNet.numLumpedStateNodes()\n",
    "    h = trainingNet.calcLumpedEntropyRate()\n",
    "    trainNumStates.append(s)\n",
    "    trainEntropyRate.append(h)\n",
    "    trainingNet.writeLumpedStateNetwork(\"output/states_training_lumped_{}.net\".format(i))\n",
    "    validationNet.clusterStateNodesFromNetwork(trainingNet)\n",
    "    validationNet.writeLumpedStateNetwork(\"output/states_validation_lumped_{}.net\".format(i))\n",
    "    s = trainingNet.numLumpedStateNodes()\n",
    "    h = trainingNet.calcLumpedEntropyRate()\n",
    "    valNumStates.append(s)\n",
    "    valEntropyRate.append(h)"
   ]
  },
  {
   "cell_type": "markdown",
   "metadata": {},
   "source": [
    "#### How much information do we lose as we reduce the number of state nodes?"
   ]
  },
  {
   "cell_type": "code",
   "execution_count": 15,
   "metadata": {},
   "outputs": [
    {
     "data": {
      "image/png": "[encoded data removed]",
      "text/plain": [
       "<Figure size 432x288 with 1 Axes>"
      ]
     },
     "metadata": {},
     "output_type": "display_data"
    }
   ],
   "source": [
    "plt.plot(trainNumStates, trainEntropyRate, marker='o')\n",
    "plt.plot(valNumStates, valEntropyRate, marker='x')\n",
    "plt.xlabel(\"number of lumped states\")\n",
    "plt.ylabel(\"entropy rate\")\n",
    "plt.axhline(y=h0, color='r', linestyle='-')\n",
    "# plt.axvline(x=sparseNet.numStateNodes(), color='r')\n",
    "plt.show()"
   ]
  },
  {
   "cell_type": "markdown",
   "metadata": {},
   "source": [
    "Note that the original number of state nodes can be much larger than the maximum in the lumped state networks due to dangling nodes which are lumped implicitly."
   ]
  },
  {
   "cell_type": "markdown",
   "metadata": {},
   "source": [
    "### Validate with Infomap\n",
    "The goal here is to calculate the codelength for the validation network, given the different partitions found on the lumped training networks."
   ]
  },
  {
   "cell_type": "code",
   "execution_count": 16,
   "metadata": {},
   "outputs": [
    {
     "name": "stdout",
     "output_type": "stream",
     "text": [
      "0: training codelength: 7.5259345399967055, validation codelength: 7.53724158607497\n",
      "1: training codelength: 7.710930350689927, validation codelength: 7.7433905132118745\n",
      "2: training codelength: 7.72555883814095, validation codelength: 7.777542463263457\n",
      "3: training codelength: 7.588072431598367, validation codelength: 7.643078771943251\n",
      "4: training codelength: 7.504214860053837, validation codelength: 7.582957071317073\n",
      "5: training codelength: 7.482089512320692, validation codelength: 7.600173835513244\n",
      "6: training codelength: 7.479675693067759, validation codelength: 7.624943199620213\n",
      "7: training codelength: 7.45817667979028, validation codelength: 7.609502350100704\n",
      "8: training codelength: 7.4584002864355465, validation codelength: 7.646243465451121\n",
      "9: training codelength: 7.462551081108056, validation codelength: 7.686523639147716\n"
     ]
    }
   ],
   "source": [
    "import infomap\n",
    "trainingCodelengths = []\n",
    "validationCodelengths = []\n",
    "\n",
    "def calcCodelength(inputFilename, cluInputFile, flags=\"--directed --two-level\"):\n",
    "    im = infomap.Infomap(\"{} --no-infomap --input {} --cluster-data {}\".format(flags, inputFilename, cluInputFile))\n",
    "    im.run()\n",
    "    return im.codelength()\n",
    "\n",
    "def partition(inputFilename, cluOutputFile=None, flags=\"--directed --two-level\"):\n",
    "    im = infomap.Infomap(flags)\n",
    "    im.network().readInputData(inputFilename)\n",
    "    im.run()\n",
    "    if cluOutputFile:\n",
    "        # Use second argument True to write the state-level clustering\n",
    "        im.writeClu(cluOutputFile, True) # Second parameter shows States\n",
    "    return im.codelength()\n",
    "\n",
    "\n",
    "for i, clusterRate in enumerate(clusterRates):\n",
    "    trainingCodelength = partition(\"output/states_training_lumped_{}.net\".format(i),\n",
    "             \"output/states_training_lumped_{}.clu\".format(i))\n",
    "    validationCodelength = calcCodelength(\"output/states_validation_lumped_{}.net\".format(i),\n",
    "             \"output/states_training_lumped_{}.clu\".format(i))\n",
    "    trainingCodelengths.append(trainingCodelength)\n",
    "    validationCodelengths.append(validationCodelength)\n",
    "    print(\"{}: training codelength: {}, validation codelength: {}\".format(i, trainingCodelength, validationCodelength))\n",
    "    \n",
    "\n"
   ]
  },
  {
   "cell_type": "code",
   "execution_count": 17,
   "metadata": {},
   "outputs": [
    {
     "data": {
      "image/png": "[encoded data removed]",
      "text/plain": [
       "<Figure size 432x288 with 1 Axes>"
      ]
     },
     "metadata": {},
     "output_type": "display_data"
    }
   ],
   "source": [
    "plt.plot(trainNumStates, trainingCodelengths, marker='o')\n",
    "plt.plot(valNumStates, validationCodelengths, marker='x')\n",
    "plt.legend([\"training\", \"validation\"])\n",
    "plt.xlabel(\"number of lumped states\")\n",
    "plt.ylabel(\"codelength\")\n",
    "plt.ylim(ymin=7)\n",
    "plt.show()"
   ]
  },
  {
   "cell_type": "code",
   "execution_count": null,
   "metadata": {},
   "outputs": [],
   "source": []
  }
 ],
 "metadata": {
  "kernelspec": {
   "display_name": "Python 3",
   "language": "python",
   "name": "python3"
  },
  "language_info": {
   "codemirror_mode": {
    "name": "ipython",
    "version": 3
   },
   "file_extension": ".py",
   "mimetype": "text/x-python",
   "name": "python",
   "nbconvert_exporter": "python",
   "pygments_lexer": "ipython3",
   "version": "3.6.5"
  }
 },
 "nbformat": 4,
 "nbformat_minor": 2
}
